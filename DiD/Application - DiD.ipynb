{
 "cells": [
  {
   "cell_type": "markdown",
   "id": "ee5fff1f",
   "metadata": {},
   "source": [
    "# Econométrie Appliquée: Application 3"
   ]
  },
  {
   "cell_type": "raw",
   "id": "c69c7949",
   "metadata": {},
   "source": [
    "Cette application consiste à utiliser la méthode de double différence pour évaluer l’impact de la construction d’écoles secondaires sur le niveau d’éducation primaire des enfants. Elle se base sur des données Tanzaniennes provenant de la Banque Mondiale (Beegle et al. 2006). Ces données concernent des communautés et des ménages de la région de Kagera en Tanzanie. \n",
    "\n",
    "Dans les années 1980, un grand nombre de nouvelles écoles ont été construites dans la région de Kagera. Cependant, des écoles secondaires n’ont pas été construites dans tous les villages, permettant la comparaison d’individus provenant de villages avec et sans écoles, quelques années plus tard. "
   ]
  },
  {
   "cell_type": "code",
   "execution_count": 112,
   "id": "4965137b",
   "metadata": {},
   "outputs": [],
   "source": [
    "import numpy as np\n",
    "import pandas as pd\n",
    "from random import seed\n",
    "import matplotlib.pyplot as plt \n",
    "import seaborn as sns\n",
    "sns.set()\n",
    "import statsmodels.api as sm\n",
    "#from sklearn.linear_model import LinearRegression"
   ]
  },
  {
   "cell_type": "markdown",
   "id": "75ac5b43",
   "metadata": {},
   "source": [
    "Question 1"
   ]
  },
  {
   "cell_type": "code",
   "execution_count": 113,
   "id": "c0da3efd",
   "metadata": {},
   "outputs": [
    {
     "data": {
      "text/html": [
       "<div>\n",
       "<style scoped>\n",
       "    .dataframe tbody tr th:only-of-type {\n",
       "        vertical-align: middle;\n",
       "    }\n",
       "\n",
       "    .dataframe tbody tr th {\n",
       "        vertical-align: top;\n",
       "    }\n",
       "\n",
       "    .dataframe thead th {\n",
       "        text-align: right;\n",
       "    }\n",
       "</style>\n",
       "<table border=\"1\" class=\"dataframe\">\n",
       "  <thead>\n",
       "    <tr style=\"text-align: right;\">\n",
       "      <th></th>\n",
       "      <th>cluster</th>\n",
       "      <th>age1994</th>\n",
       "      <th>distcapital</th>\n",
       "      <th>primary</th>\n",
       "      <th>ocohort</th>\n",
       "      <th>ycohort</th>\n",
       "      <th>treat</th>\n",
       "      <th>ycohortxtreat</th>\n",
       "      <th>male1994</th>\n",
       "      <th>electric</th>\n",
       "      <th>pipwater</th>\n",
       "    </tr>\n",
       "  </thead>\n",
       "  <tbody>\n",
       "    <tr>\n",
       "      <th>0</th>\n",
       "      <td>1</td>\n",
       "      <td>20</td>\n",
       "      <td>12.49</td>\n",
       "      <td>1</td>\n",
       "      <td>0</td>\n",
       "      <td>1</td>\n",
       "      <td>1</td>\n",
       "      <td>1</td>\n",
       "      <td>1</td>\n",
       "      <td>0</td>\n",
       "      <td>0</td>\n",
       "    </tr>\n",
       "    <tr>\n",
       "      <th>1</th>\n",
       "      <td>1</td>\n",
       "      <td>15</td>\n",
       "      <td>12.49</td>\n",
       "      <td>1</td>\n",
       "      <td>0</td>\n",
       "      <td>1</td>\n",
       "      <td>1</td>\n",
       "      <td>1</td>\n",
       "      <td>0</td>\n",
       "      <td>0</td>\n",
       "      <td>0</td>\n",
       "    </tr>\n",
       "    <tr>\n",
       "      <th>2</th>\n",
       "      <td>1</td>\n",
       "      <td>20</td>\n",
       "      <td>12.49</td>\n",
       "      <td>1</td>\n",
       "      <td>0</td>\n",
       "      <td>1</td>\n",
       "      <td>1</td>\n",
       "      <td>1</td>\n",
       "      <td>0</td>\n",
       "      <td>0</td>\n",
       "      <td>0</td>\n",
       "    </tr>\n",
       "    <tr>\n",
       "      <th>3</th>\n",
       "      <td>1</td>\n",
       "      <td>46</td>\n",
       "      <td>12.49</td>\n",
       "      <td>1</td>\n",
       "      <td>1</td>\n",
       "      <td>0</td>\n",
       "      <td>1</td>\n",
       "      <td>0</td>\n",
       "      <td>1</td>\n",
       "      <td>0</td>\n",
       "      <td>0</td>\n",
       "    </tr>\n",
       "    <tr>\n",
       "      <th>4</th>\n",
       "      <td>1</td>\n",
       "      <td>39</td>\n",
       "      <td>12.49</td>\n",
       "      <td>0</td>\n",
       "      <td>1</td>\n",
       "      <td>0</td>\n",
       "      <td>1</td>\n",
       "      <td>0</td>\n",
       "      <td>0</td>\n",
       "      <td>0</td>\n",
       "      <td>0</td>\n",
       "    </tr>\n",
       "    <tr>\n",
       "      <th>...</th>\n",
       "      <td>...</td>\n",
       "      <td>...</td>\n",
       "      <td>...</td>\n",
       "      <td>...</td>\n",
       "      <td>...</td>\n",
       "      <td>...</td>\n",
       "      <td>...</td>\n",
       "      <td>...</td>\n",
       "      <td>...</td>\n",
       "      <td>...</td>\n",
       "      <td>...</td>\n",
       "    </tr>\n",
       "    <tr>\n",
       "      <th>1194</th>\n",
       "      <td>51</td>\n",
       "      <td>17</td>\n",
       "      <td>45.41</td>\n",
       "      <td>1</td>\n",
       "      <td>0</td>\n",
       "      <td>1</td>\n",
       "      <td>0</td>\n",
       "      <td>0</td>\n",
       "      <td>1</td>\n",
       "      <td>1</td>\n",
       "      <td>0</td>\n",
       "    </tr>\n",
       "    <tr>\n",
       "      <th>1195</th>\n",
       "      <td>51</td>\n",
       "      <td>40</td>\n",
       "      <td>45.41</td>\n",
       "      <td>0</td>\n",
       "      <td>1</td>\n",
       "      <td>0</td>\n",
       "      <td>0</td>\n",
       "      <td>0</td>\n",
       "      <td>0</td>\n",
       "      <td>1</td>\n",
       "      <td>0</td>\n",
       "    </tr>\n",
       "    <tr>\n",
       "      <th>1196</th>\n",
       "      <td>51</td>\n",
       "      <td>25</td>\n",
       "      <td>45.41</td>\n",
       "      <td>1</td>\n",
       "      <td>0</td>\n",
       "      <td>1</td>\n",
       "      <td>0</td>\n",
       "      <td>0</td>\n",
       "      <td>1</td>\n",
       "      <td>1</td>\n",
       "      <td>0</td>\n",
       "    </tr>\n",
       "    <tr>\n",
       "      <th>1197</th>\n",
       "      <td>51</td>\n",
       "      <td>15</td>\n",
       "      <td>45.41</td>\n",
       "      <td>1</td>\n",
       "      <td>0</td>\n",
       "      <td>1</td>\n",
       "      <td>0</td>\n",
       "      <td>0</td>\n",
       "      <td>0</td>\n",
       "      <td>1</td>\n",
       "      <td>0</td>\n",
       "    </tr>\n",
       "    <tr>\n",
       "      <th>1198</th>\n",
       "      <td>51</td>\n",
       "      <td>15</td>\n",
       "      <td>45.41</td>\n",
       "      <td>1</td>\n",
       "      <td>0</td>\n",
       "      <td>1</td>\n",
       "      <td>0</td>\n",
       "      <td>0</td>\n",
       "      <td>1</td>\n",
       "      <td>1</td>\n",
       "      <td>0</td>\n",
       "    </tr>\n",
       "  </tbody>\n",
       "</table>\n",
       "<p>1199 rows × 11 columns</p>\n",
       "</div>"
      ],
      "text/plain": [
       "      cluster  age1994  distcapital  primary  ocohort  ycohort  treat  \\\n",
       "0           1       20        12.49        1        0        1      1   \n",
       "1           1       15        12.49        1        0        1      1   \n",
       "2           1       20        12.49        1        0        1      1   \n",
       "3           1       46        12.49        1        1        0      1   \n",
       "4           1       39        12.49        0        1        0      1   \n",
       "...       ...      ...          ...      ...      ...      ...    ...   \n",
       "1194       51       17        45.41        1        0        1      0   \n",
       "1195       51       40        45.41        0        1        0      0   \n",
       "1196       51       25        45.41        1        0        1      0   \n",
       "1197       51       15        45.41        1        0        1      0   \n",
       "1198       51       15        45.41        1        0        1      0   \n",
       "\n",
       "      ycohortxtreat  male1994  electric  pipwater  \n",
       "0                 1         1         0         0  \n",
       "1                 1         0         0         0  \n",
       "2                 1         0         0         0  \n",
       "3                 0         1         0         0  \n",
       "4                 0         0         0         0  \n",
       "...             ...       ...       ...       ...  \n",
       "1194              0         1         1         0  \n",
       "1195              0         0         1         0  \n",
       "1196              0         1         1         0  \n",
       "1197              0         0         1         0  \n",
       "1198              0         1         1         0  \n",
       "\n",
       "[1199 rows x 11 columns]"
      ]
     },
     "execution_count": 113,
     "metadata": {},
     "output_type": "execute_result"
    }
   ],
   "source": [
    "data = pd.read_excel('D:/ENS Paris Saclay/Evaluation de Politique/Application/DID.xlsx')\n",
    "data"
   ]
  },
  {
   "cell_type": "markdown",
   "id": "f1d34913",
   "metadata": {},
   "source": [
    "Première partie - Statistiques descriptives "
   ]
  },
  {
   "cell_type": "markdown",
   "id": "71bfe802",
   "metadata": {},
   "source": [
    "Q1. Quel est l’âge moyen et sa distribution ? Quelle est la proportion d’hommes ? Quelle est la proportion d’individus ayant terminé leur étude primaire ? "
   ]
  },
  {
   "cell_type": "code",
   "execution_count": 114,
   "id": "35c933f2",
   "metadata": {},
   "outputs": [
    {
     "data": {
      "text/html": [
       "<div>\n",
       "<style scoped>\n",
       "    .dataframe tbody tr th:only-of-type {\n",
       "        vertical-align: middle;\n",
       "    }\n",
       "\n",
       "    .dataframe tbody tr th {\n",
       "        vertical-align: top;\n",
       "    }\n",
       "\n",
       "    .dataframe thead th {\n",
       "        text-align: right;\n",
       "    }\n",
       "</style>\n",
       "<table border=\"1\" class=\"dataframe\">\n",
       "  <thead>\n",
       "    <tr style=\"text-align: right;\">\n",
       "      <th></th>\n",
       "      <th>cluster</th>\n",
       "      <th>age1994</th>\n",
       "      <th>distcapital</th>\n",
       "      <th>primary</th>\n",
       "      <th>ocohort</th>\n",
       "      <th>ycohort</th>\n",
       "      <th>treat</th>\n",
       "      <th>ycohortxtreat</th>\n",
       "      <th>male1994</th>\n",
       "      <th>electric</th>\n",
       "      <th>pipwater</th>\n",
       "    </tr>\n",
       "  </thead>\n",
       "  <tbody>\n",
       "    <tr>\n",
       "      <th>count</th>\n",
       "      <td>1199.000000</td>\n",
       "      <td>1199.000000</td>\n",
       "      <td>1199.000000</td>\n",
       "      <td>1199.000000</td>\n",
       "      <td>1199.000000</td>\n",
       "      <td>1199.000000</td>\n",
       "      <td>1199.000000</td>\n",
       "      <td>1199.000000</td>\n",
       "      <td>1199.000000</td>\n",
       "      <td>1199.000000</td>\n",
       "      <td>1199.000000</td>\n",
       "    </tr>\n",
       "    <tr>\n",
       "      <th>mean</th>\n",
       "      <td>26.281902</td>\n",
       "      <td>24.576314</td>\n",
       "      <td>66.998540</td>\n",
       "      <td>0.699750</td>\n",
       "      <td>0.271893</td>\n",
       "      <td>0.728107</td>\n",
       "      <td>0.205171</td>\n",
       "      <td>0.152627</td>\n",
       "      <td>0.452877</td>\n",
       "      <td>0.271059</td>\n",
       "      <td>0.210175</td>\n",
       "    </tr>\n",
       "    <tr>\n",
       "      <th>std</th>\n",
       "      <td>14.590364</td>\n",
       "      <td>9.625924</td>\n",
       "      <td>67.638498</td>\n",
       "      <td>0.458558</td>\n",
       "      <td>0.445121</td>\n",
       "      <td>0.445121</td>\n",
       "      <td>0.403995</td>\n",
       "      <td>0.359778</td>\n",
       "      <td>0.497982</td>\n",
       "      <td>0.444692</td>\n",
       "      <td>0.407603</td>\n",
       "    </tr>\n",
       "    <tr>\n",
       "      <th>min</th>\n",
       "      <td>1.000000</td>\n",
       "      <td>15.000000</td>\n",
       "      <td>0.000000</td>\n",
       "      <td>0.000000</td>\n",
       "      <td>0.000000</td>\n",
       "      <td>0.000000</td>\n",
       "      <td>0.000000</td>\n",
       "      <td>0.000000</td>\n",
       "      <td>0.000000</td>\n",
       "      <td>0.000000</td>\n",
       "      <td>0.000000</td>\n",
       "    </tr>\n",
       "    <tr>\n",
       "      <th>25%</th>\n",
       "      <td>13.500000</td>\n",
       "      <td>18.000000</td>\n",
       "      <td>15.320000</td>\n",
       "      <td>0.000000</td>\n",
       "      <td>0.000000</td>\n",
       "      <td>0.000000</td>\n",
       "      <td>0.000000</td>\n",
       "      <td>0.000000</td>\n",
       "      <td>0.000000</td>\n",
       "      <td>0.000000</td>\n",
       "      <td>0.000000</td>\n",
       "    </tr>\n",
       "    <tr>\n",
       "      <th>50%</th>\n",
       "      <td>26.000000</td>\n",
       "      <td>21.000000</td>\n",
       "      <td>41.830000</td>\n",
       "      <td>1.000000</td>\n",
       "      <td>0.000000</td>\n",
       "      <td>1.000000</td>\n",
       "      <td>0.000000</td>\n",
       "      <td>0.000000</td>\n",
       "      <td>0.000000</td>\n",
       "      <td>0.000000</td>\n",
       "      <td>0.000000</td>\n",
       "    </tr>\n",
       "    <tr>\n",
       "      <th>75%</th>\n",
       "      <td>39.000000</td>\n",
       "      <td>31.000000</td>\n",
       "      <td>86.760000</td>\n",
       "      <td>1.000000</td>\n",
       "      <td>1.000000</td>\n",
       "      <td>1.000000</td>\n",
       "      <td>0.000000</td>\n",
       "      <td>0.000000</td>\n",
       "      <td>1.000000</td>\n",
       "      <td>1.000000</td>\n",
       "      <td>0.000000</td>\n",
       "    </tr>\n",
       "    <tr>\n",
       "      <th>max</th>\n",
       "      <td>51.000000</td>\n",
       "      <td>50.000000</td>\n",
       "      <td>217.790000</td>\n",
       "      <td>1.000000</td>\n",
       "      <td>1.000000</td>\n",
       "      <td>1.000000</td>\n",
       "      <td>1.000000</td>\n",
       "      <td>1.000000</td>\n",
       "      <td>1.000000</td>\n",
       "      <td>1.000000</td>\n",
       "      <td>1.000000</td>\n",
       "    </tr>\n",
       "  </tbody>\n",
       "</table>\n",
       "</div>"
      ],
      "text/plain": [
       "           cluster      age1994  distcapital      primary      ocohort  \\\n",
       "count  1199.000000  1199.000000  1199.000000  1199.000000  1199.000000   \n",
       "mean     26.281902    24.576314    66.998540     0.699750     0.271893   \n",
       "std      14.590364     9.625924    67.638498     0.458558     0.445121   \n",
       "min       1.000000    15.000000     0.000000     0.000000     0.000000   \n",
       "25%      13.500000    18.000000    15.320000     0.000000     0.000000   \n",
       "50%      26.000000    21.000000    41.830000     1.000000     0.000000   \n",
       "75%      39.000000    31.000000    86.760000     1.000000     1.000000   \n",
       "max      51.000000    50.000000   217.790000     1.000000     1.000000   \n",
       "\n",
       "           ycohort        treat  ycohortxtreat     male1994     electric  \\\n",
       "count  1199.000000  1199.000000    1199.000000  1199.000000  1199.000000   \n",
       "mean      0.728107     0.205171       0.152627     0.452877     0.271059   \n",
       "std       0.445121     0.403995       0.359778     0.497982     0.444692   \n",
       "min       0.000000     0.000000       0.000000     0.000000     0.000000   \n",
       "25%       0.000000     0.000000       0.000000     0.000000     0.000000   \n",
       "50%       1.000000     0.000000       0.000000     0.000000     0.000000   \n",
       "75%       1.000000     0.000000       0.000000     1.000000     1.000000   \n",
       "max       1.000000     1.000000       1.000000     1.000000     1.000000   \n",
       "\n",
       "          pipwater  \n",
       "count  1199.000000  \n",
       "mean      0.210175  \n",
       "std       0.407603  \n",
       "min       0.000000  \n",
       "25%       0.000000  \n",
       "50%       0.000000  \n",
       "75%       0.000000  \n",
       "max       1.000000  "
      ]
     },
     "execution_count": 114,
     "metadata": {},
     "output_type": "execute_result"
    }
   ],
   "source": [
    "data.describe()"
   ]
  },
  {
   "cell_type": "markdown",
   "id": "e343d2fe",
   "metadata": {},
   "source": [
    "Q2. Présentez séparément ces résultats pour le groupe de traitement et le groupe de contrôle. Pour chaque variable, faites un test statistique pour évaluer s’il existe des différences significatives (au seuil de 5%) entre les groupes de traitement et de contrôle. Commentez vos résultats. En particulier, si vous trouvez des différences significatives, indiquez en quoi cela peut affecter les résultats de l’évaluation d’impact. "
   ]
  },
  {
   "cell_type": "code",
   "execution_count": 115,
   "id": "c5811a04",
   "metadata": {},
   "outputs": [],
   "source": [
    "x = data['treat']\n",
    "x = sm.add_constant(x)"
   ]
  },
  {
   "cell_type": "code",
   "execution_count": 116,
   "id": "0919d9e6",
   "metadata": {},
   "outputs": [],
   "source": [
    "var = ['age1994','male1994','primary']"
   ]
  },
  {
   "cell_type": "code",
   "execution_count": 117,
   "id": "b4b07a70",
   "metadata": {},
   "outputs": [
    {
     "name": "stdout",
     "output_type": "stream",
     "text": [
      "Test de différence en: age1994\n",
      "                            OLS Regression Results                            \n",
      "==============================================================================\n",
      "Dep. Variable:                age1994   R-squared:                       0.000\n",
      "Model:                            OLS   Adj. R-squared:                 -0.000\n",
      "Method:                 Least Squares   F-statistic:                    0.5383\n",
      "Date:                Wed, 20 Mar 2024   Prob (F-statistic):              0.463\n",
      "Time:                        06:46:41   Log-Likelihood:                -4415.6\n",
      "No. Observations:                1199   AIC:                             8835.\n",
      "Df Residuals:                    1197   BIC:                             8845.\n",
      "Df Model:                           1                                         \n",
      "Covariance Type:            nonrobust                                         \n",
      "==============================================================================\n",
      "                 coef    std err          t      P>|t|      [0.025      0.975]\n",
      "------------------------------------------------------------------------------\n",
      "const         24.6800      0.312     79.134      0.000      24.068      25.292\n",
      "treat         -0.5052      0.689     -0.734      0.463      -1.856       0.846\n",
      "==============================================================================\n",
      "Omnibus:                      169.181   Durbin-Watson:                   1.980\n",
      "Prob(Omnibus):                  0.000   Jarque-Bera (JB):              248.001\n",
      "Skew:                           1.114   Prob(JB):                     1.40e-54\n",
      "Kurtosis:                       2.994   Cond. No.                         2.60\n",
      "==============================================================================\n",
      "\n",
      "Notes:\n",
      "[1] Standard Errors assume that the covariance matrix of the errors is correctly specified.\n",
      "Test de différence en: male1994\n",
      "                            OLS Regression Results                            \n",
      "==============================================================================\n",
      "Dep. Variable:               male1994   R-squared:                       0.002\n",
      "Model:                            OLS   Adj. R-squared:                  0.001\n",
      "Method:                 Least Squares   F-statistic:                     1.899\n",
      "Date:                Wed, 20 Mar 2024   Prob (F-statistic):              0.168\n",
      "Time:                        06:46:41   Log-Likelihood:                -863.92\n",
      "No. Observations:                1199   AIC:                             1732.\n",
      "Df Residuals:                    1197   BIC:                             1742.\n",
      "Df Model:                           1                                         \n",
      "Covariance Type:            nonrobust                                         \n",
      "==============================================================================\n",
      "                 coef    std err          t      P>|t|      [0.025      0.975]\n",
      "------------------------------------------------------------------------------\n",
      "const          0.4428      0.016     27.461      0.000       0.411       0.474\n",
      "treat          0.0491      0.036      1.378      0.168      -0.021       0.119\n",
      "==============================================================================\n",
      "Omnibus:                     4562.182   Durbin-Watson:                   2.124\n",
      "Prob(Omnibus):                  0.000   Jarque-Bera (JB):              198.639\n",
      "Skew:                           0.189   Prob(JB):                     7.35e-44\n",
      "Kurtosis:                       1.042   Cond. No.                         2.60\n",
      "==============================================================================\n",
      "\n",
      "Notes:\n",
      "[1] Standard Errors assume that the covariance matrix of the errors is correctly specified.\n",
      "Test de différence en: primary\n",
      "                            OLS Regression Results                            \n",
      "==============================================================================\n",
      "Dep. Variable:                primary   R-squared:                       0.008\n",
      "Model:                            OLS   Adj. R-squared:                  0.007\n",
      "Method:                 Least Squares   F-statistic:                     9.664\n",
      "Date:                Wed, 20 Mar 2024   Prob (F-statistic):            0.00192\n",
      "Time:                        06:46:41   Log-Likelihood:                -761.16\n",
      "No. Observations:                1199   AIC:                             1526.\n",
      "Df Residuals:                    1197   BIC:                             1537.\n",
      "Df Model:                           1                                         \n",
      "Covariance Type:            nonrobust                                         \n",
      "==============================================================================\n",
      "                 coef    std err          t      P>|t|      [0.025      0.975]\n",
      "------------------------------------------------------------------------------\n",
      "const          0.6789      0.015     45.870      0.000       0.650       0.708\n",
      "treat          0.1016      0.033      3.109      0.002       0.037       0.166\n",
      "==============================================================================\n",
      "Omnibus:                     1254.602   Durbin-Watson:                   1.705\n",
      "Prob(Omnibus):                  0.000   Jarque-Bera (JB):              222.544\n",
      "Skew:                          -0.859   Prob(JB):                     4.73e-49\n",
      "Kurtosis:                       1.774   Cond. No.                         2.60\n",
      "==============================================================================\n",
      "\n",
      "Notes:\n",
      "[1] Standard Errors assume that the covariance matrix of the errors is correctly specified.\n"
     ]
    }
   ],
   "source": [
    "for i in var: \n",
    "    result = sm.OLS(data[i],x).fit()\n",
    "    print('Test de différence en:', i)\n",
    "    print(result.summary())"
   ]
  },
  {
   "cell_type": "code",
   "execution_count": 118,
   "id": "9c1adee1",
   "metadata": {},
   "outputs": [
    {
     "name": "stdout",
     "output_type": "stream",
     "text": [
      "                            OLS Regression Results                            \n",
      "==============================================================================\n",
      "Dep. Variable:                primary   R-squared:                       0.013\n",
      "Model:                            OLS   Adj. R-squared:                  0.012\n",
      "Method:                 Least Squares   F-statistic:                     11.27\n",
      "Date:                Wed, 20 Mar 2024   Prob (F-statistic):           0.000821\n",
      "Time:                        06:46:41   Log-Likelihood:                -404.11\n",
      "No. Observations:                 873   AIC:                             812.2\n",
      "Df Residuals:                     871   BIC:                             821.8\n",
      "Df Model:                           1                                         \n",
      "Covariance Type:            nonrobust                                         \n",
      "==============================================================================\n",
      "                 coef    std err          t      P>|t|      [0.025      0.975]\n",
      "------------------------------------------------------------------------------\n",
      "const          0.7942      0.015     54.208      0.000       0.765       0.823\n",
      "treat          0.1074      0.032      3.357      0.001       0.045       0.170\n",
      "==============================================================================\n",
      "Omnibus:                      212.287   Durbin-Watson:                   1.630\n",
      "Prob(Omnibus):                  0.000   Jarque-Bera (JB):              387.831\n",
      "Skew:                          -1.601   Prob(JB):                     6.08e-85\n",
      "Kurtosis:                       3.640   Cond. No.                         2.58\n",
      "==============================================================================\n",
      "\n",
      "Notes:\n",
      "[1] Standard Errors assume that the covariance matrix of the errors is correctly specified.\n",
      "                            OLS Regression Results                            \n",
      "==============================================================================\n",
      "Dep. Variable:                primary   R-squared:                       0.065\n",
      "Model:                            OLS   Adj. R-squared:                  0.058\n",
      "Method:                 Least Squares   F-statistic:                     10.03\n",
      "Date:                Wed, 20 Mar 2024   Prob (F-statistic):           1.00e-10\n",
      "Time:                        06:46:41   Log-Likelihood:                -380.41\n",
      "No. Observations:                 873   AIC:                             774.8\n",
      "Df Residuals:                     866   BIC:                             808.2\n",
      "Df Model:                           6                                         \n",
      "Covariance Type:            nonrobust                                         \n",
      "===============================================================================\n",
      "                  coef    std err          t      P>|t|      [0.025      0.975]\n",
      "-------------------------------------------------------------------------------\n",
      "const           0.7101      0.087      8.198      0.000       0.540       0.880\n",
      "treat           0.0792      0.032      2.496      0.013       0.017       0.141\n",
      "age1994         0.0074      0.004      1.719      0.086      -0.001       0.016\n",
      "distcapital    -0.0012      0.000     -5.910      0.000      -0.002      -0.001\n",
      "male1994        0.0295      0.026      1.154      0.249      -0.021       0.080\n",
      "electric        0.0416      0.039      1.072      0.284      -0.035       0.118\n",
      "pipwater       -0.0036      0.041     -0.088      0.930      -0.085       0.077\n",
      "==============================================================================\n",
      "Omnibus:                      195.885   Durbin-Watson:                   1.713\n",
      "Prob(Omnibus):                  0.000   Jarque-Bera (JB):              340.781\n",
      "Skew:                          -1.491   Prob(JB):                     1.00e-74\n",
      "Kurtosis:                       3.690   Cond. No.                         641.\n",
      "==============================================================================\n",
      "\n",
      "Notes:\n",
      "[1] Standard Errors assume that the covariance matrix of the errors is correctly specified.\n"
     ]
    }
   ],
   "source": [
    "yj = data[data['ycohort']==1]['primary']\n",
    "xj = data[data['ycohort']==1]['treat']\n",
    "xj = sm.add_constant(xj)\n",
    "xjj = data[data['ycohort']==1][['treat','age1994','distcapital','male1994','electric','pipwater']]\n",
    "xjj = sm.add_constant(xjj)\n",
    "result = sm.OLS(yj,xj).fit()\n",
    "print(result.summary())\n",
    "result = sm.OLS(yj,xjj).fit()\n",
    "print(result.summary())"
   ]
  },
  {
   "cell_type": "markdown",
   "id": "677862fb",
   "metadata": {},
   "source": [
    "Q3. Refaite l’analyse de la question 2 pour la cohorte des jeunes individus (âgés de 6 à 16 ans en 1985) et la cohorte des plus vieux (âgés de 21 à 41 ans en 1985). Que pouvez vous conclure sur l’hypothèse du ‘’common trend’’ ?"
   ]
  },
  {
   "cell_type": "code",
   "execution_count": 119,
   "id": "24e4bc28",
   "metadata": {},
   "outputs": [
    {
     "name": "stdout",
     "output_type": "stream",
     "text": [
      "                            OLS Regression Results                            \n",
      "==============================================================================\n",
      "Dep. Variable:                primary   R-squared:                       0.002\n",
      "Model:                            OLS   Adj. R-squared:                 -0.001\n",
      "Method:                 Least Squares   F-statistic:                    0.5803\n",
      "Date:                Wed, 20 Mar 2024   Prob (F-statistic):              0.447\n",
      "Time:                        06:46:41   Log-Likelihood:                -227.69\n",
      "No. Observations:                 326   AIC:                             459.4\n",
      "Df Residuals:                     324   BIC:                             467.0\n",
      "Df Model:                           1                                         \n",
      "Covariance Type:            nonrobust                                         \n",
      "==============================================================================\n",
      "                 coef    std err          t      P>|t|      [0.025      0.975]\n",
      "------------------------------------------------------------------------------\n",
      "const          0.3764      0.030     12.509      0.000       0.317       0.436\n",
      "treat          0.0521      0.068      0.762      0.447      -0.083       0.187\n",
      "==============================================================================\n",
      "Omnibus:                     1823.277   Durbin-Watson:                   1.747\n",
      "Prob(Omnibus):                  0.000   Jarque-Bera (JB):               54.600\n",
      "Skew:                           0.465   Prob(JB):                     1.39e-12\n",
      "Kurtosis:                       1.224   Cond. No.                         2.64\n",
      "==============================================================================\n",
      "\n",
      "Notes:\n",
      "[1] Standard Errors assume that the covariance matrix of the errors is correctly specified.\n",
      "                            OLS Regression Results                            \n",
      "==============================================================================\n",
      "Dep. Variable:                primary   R-squared:                       0.236\n",
      "Model:                            OLS   Adj. R-squared:                  0.222\n",
      "Method:                 Least Squares   F-statistic:                     16.44\n",
      "Date:                Wed, 20 Mar 2024   Prob (F-statistic):           1.65e-16\n",
      "Time:                        06:46:41   Log-Likelihood:                -184.08\n",
      "No. Observations:                 326   AIC:                             382.2\n",
      "Df Residuals:                     319   BIC:                             408.7\n",
      "Df Model:                           6                                         \n",
      "Covariance Type:            nonrobust                                         \n",
      "===============================================================================\n",
      "                  coef    std err          t      P>|t|      [0.025      0.975]\n",
      "-------------------------------------------------------------------------------\n",
      "const           1.3492      0.168      8.042      0.000       1.019       1.679\n",
      "treat          -0.0106      0.061     -0.173      0.863      -0.131       0.110\n",
      "age1994        -0.0264      0.004     -6.340      0.000      -0.035      -0.018\n",
      "distcapital    -0.0011      0.000     -3.094      0.002      -0.002      -0.000\n",
      "male1994        0.2948      0.049      6.073      0.000       0.199       0.390\n",
      "electric        0.1137      0.066      1.711      0.088      -0.017       0.245\n",
      "pipwater       -0.0111      0.071     -0.156      0.876      -0.151       0.129\n",
      "==============================================================================\n",
      "Omnibus:                       45.115   Durbin-Watson:                   1.699\n",
      "Prob(Omnibus):                  0.000   Jarque-Bera (JB):               16.579\n",
      "Skew:                           0.315   Prob(JB):                     0.000251\n",
      "Kurtosis:                       2.092   Cond. No.                         745.\n",
      "==============================================================================\n",
      "\n",
      "Notes:\n",
      "[1] Standard Errors assume that the covariance matrix of the errors is correctly specified.\n"
     ]
    }
   ],
   "source": [
    "yv = data[data['ocohort']==1]['primary']\n",
    "xv = data[data['ocohort']==1]['treat']\n",
    "xv = sm.add_constant(xv)\n",
    "xvv = data[data['ocohort']==1][['treat','age1994','distcapital','male1994','electric','pipwater']]\n",
    "xvv = sm.add_constant(xvv)\n",
    "result = sm.OLS(yv,xv).fit()\n",
    "print(result.summary())\n",
    "result = sm.OLS(yv,xvv).fit()\n",
    "print(result.summary())"
   ]
  },
  {
   "cell_type": "markdown",
   "id": "38f8d663",
   "metadata": {},
   "source": [
    "II.Deuxième partie : double différence, comparaison de moyennes. "
   ]
  },
  {
   "cell_type": "markdown",
   "id": "78ad4b89",
   "metadata": {},
   "source": [
    "1.Calculez les moyennes (a, b , c et d) d’éducation primaire pour chacun des groupes :\n",
    "\n",
    "a.Quel pourcentage de la cohorte « jeune » a fini l’école primaire dans les villages de contrôle ? \n",
    "\n",
    "b.Quel pourcentage de la cohorte « âgée » a fini l’école primaire dans les villages de contrôle ? \n",
    "\n",
    "c.Quel pourcentage de la cohorte « jeune » a fini l’école primaire dans les villages de traitement ? \n",
    "\n",
    "d.Quel pourcentage de la cohorte « âgée » a fini l’école primaire dans les villages de traitement ? "
   ]
  },
  {
   "cell_type": "code",
   "execution_count": 120,
   "id": "53471555",
   "metadata": {},
   "outputs": [
    {
     "name": "stderr",
     "output_type": "stream",
     "text": [
      "C:\\Users\\Yao Thibaut Kpegli\\AppData\\Local\\Temp\\ipykernel_35740\\3505707713.py:1: UserWarning: Boolean Series key will be reindexed to match DataFrame index.\n",
      "  a=np.mean(data[data['ycohort']==1][data['treat']==0]['primary'])\n",
      "C:\\Users\\Yao Thibaut Kpegli\\AppData\\Local\\Temp\\ipykernel_35740\\3505707713.py:2: UserWarning: Boolean Series key will be reindexed to match DataFrame index.\n",
      "  b=np.mean(data[data['ocohort']==1][data['treat']==0]['primary'])\n",
      "C:\\Users\\Yao Thibaut Kpegli\\AppData\\Local\\Temp\\ipykernel_35740\\3505707713.py:3: UserWarning: Boolean Series key will be reindexed to match DataFrame index.\n",
      "  c=np.mean(data[data['ycohort']==1][data['treat']==1]['primary'])\n",
      "C:\\Users\\Yao Thibaut Kpegli\\AppData\\Local\\Temp\\ipykernel_35740\\3505707713.py:4: UserWarning: Boolean Series key will be reindexed to match DataFrame index.\n",
      "  d=np.mean(data[data['ocohort']==1][data['treat']==1]['primary'])\n"
     ]
    }
   ],
   "source": [
    "a=np.mean(data[data['ycohort']==1][data['treat']==0]['primary'])\n",
    "b=np.mean(data[data['ocohort']==1][data['treat']==0]['primary'])\n",
    "c=np.mean(data[data['ycohort']==1][data['treat']==1]['primary'])\n",
    "d=np.mean(data[data['ocohort']==1][data['treat']==1]['primary'])"
   ]
  },
  {
   "cell_type": "markdown",
   "id": "94fda93c",
   "metadata": {},
   "source": [
    "2.Remplissez le tableau suivant"
   ]
  },
  {
   "cell_type": "code",
   "execution_count": 121,
   "id": "20904e6d",
   "metadata": {},
   "outputs": [
    {
     "data": {
      "text/plain": [
       "(0.7942028985507247,\n",
       " 0.376425855513308,\n",
       " 0.9016393442622951,\n",
       " 0.42857142857142855)"
      ]
     },
     "execution_count": 121,
     "metadata": {},
     "output_type": "execute_result"
    }
   ],
   "source": [
    "a,b,c,d"
   ]
  },
  {
   "cell_type": "code",
   "execution_count": 122,
   "id": "a9beb2fa",
   "metadata": {},
   "outputs": [
    {
     "data": {
      "text/plain": [
       "0.4177770430374167"
      ]
     },
     "execution_count": 122,
     "metadata": {},
     "output_type": "execute_result"
    }
   ],
   "source": [
    "dif1=a-b\n",
    "dif1"
   ]
  },
  {
   "cell_type": "code",
   "execution_count": 123,
   "id": "e2c88b37",
   "metadata": {},
   "outputs": [
    {
     "data": {
      "text/plain": [
       "0.47306791569086654"
      ]
     },
     "execution_count": 123,
     "metadata": {},
     "output_type": "execute_result"
    }
   ],
   "source": [
    "dif2=c-d\n",
    "dif2"
   ]
  },
  {
   "cell_type": "code",
   "execution_count": 124,
   "id": "e8b73f13",
   "metadata": {},
   "outputs": [
    {
     "data": {
      "text/plain": [
       "0.05529087265344984"
      ]
     },
     "execution_count": 124,
     "metadata": {},
     "output_type": "execute_result"
    }
   ],
   "source": [
    "DiD=dif2-dif1\n",
    "DiD"
   ]
  },
  {
   "cell_type": "markdown",
   "id": "23e76cd8",
   "metadata": {},
   "source": [
    "III. Troisième partie : double différence avec une régression MCO"
   ]
  },
  {
   "cell_type": "markdown",
   "id": "6a256765",
   "metadata": {},
   "source": [
    "Q1. Faites une régression du niveau d’éducation primaire (complété/non-complété) sur la variable de traitement, la variable binaire de la cohorte des jeunes (ycohort) et la variable d’interaction entre le traitement et la cohorte des jeunes (ycohortxtreat)."
   ]
  },
  {
   "cell_type": "code",
   "execution_count": 125,
   "id": "b8b83ae1",
   "metadata": {},
   "outputs": [],
   "source": [
    "x = data[['treat','ycohort','ycohortxtreat']]\n",
    "x = sm.add_constant(x)"
   ]
  },
  {
   "cell_type": "code",
   "execution_count": 126,
   "id": "90401726",
   "metadata": {},
   "outputs": [
    {
     "name": "stdout",
     "output_type": "stream",
     "text": [
      "                            OLS Regression Results                            \n",
      "==============================================================================\n",
      "Dep. Variable:                primary   R-squared:                       0.182\n",
      "Model:                            OLS   Adj. R-squared:                  0.180\n",
      "Method:                 Least Squares   F-statistic:                     88.38\n",
      "Date:                Wed, 20 Mar 2024   Prob (F-statistic):           1.19e-51\n",
      "Time:                        06:46:41   Log-Likelihood:                -645.86\n",
      "No. Observations:                1199   AIC:                             1300.\n",
      "Df Residuals:                    1195   BIC:                             1320.\n",
      "Df Model:                           3                                         \n",
      "Covariance Type:            nonrobust                                         \n",
      "=================================================================================\n",
      "                    coef    std err          t      P>|t|      [0.025      0.975]\n",
      "---------------------------------------------------------------------------------\n",
      "const             0.3764      0.026     14.697      0.000       0.326       0.427\n",
      "treat             0.0521      0.058      0.895      0.371      -0.062       0.166\n",
      "ycohort           0.4178      0.030     13.879      0.000       0.359       0.477\n",
      "ycohortxtreat     0.0553      0.068      0.816      0.414      -0.078       0.188\n",
      "==============================================================================\n",
      "Omnibus:                       99.506   Durbin-Watson:                   1.679\n",
      "Prob(Omnibus):                  0.000   Jarque-Bera (JB):              113.358\n",
      "Skew:                          -0.724   Prob(JB):                     2.42e-25\n",
      "Kurtosis:                       2.588   Cond. No.                         9.54\n",
      "==============================================================================\n",
      "\n",
      "Notes:\n",
      "[1] Standard Errors assume that the covariance matrix of the errors is correctly specified.\n"
     ]
    }
   ],
   "source": [
    "result = sm.OLS(data['primary'],x).fit()\n",
    "print(result.summary())"
   ]
  },
  {
   "cell_type": "markdown",
   "id": "b6e2c07f",
   "metadata": {},
   "source": [
    "Q2.Faites la même régression qu’en 1, mais cette fois en ajoutant d’autres variables de contrôle. \n",
    "Est-ce que la valeur du coefficient sur la variable de traitement change ? "
   ]
  },
  {
   "cell_type": "code",
   "execution_count": 127,
   "id": "8398d216",
   "metadata": {},
   "outputs": [],
   "source": [
    "x = data[['treat','ycohort','ycohortxtreat','age1994','distcapital','male1994','electric','pipwater']]\n",
    "x = sm.add_constant(x)"
   ]
  },
  {
   "cell_type": "code",
   "execution_count": 128,
   "id": "81b088a4",
   "metadata": {},
   "outputs": [
    {
     "name": "stdout",
     "output_type": "stream",
     "text": [
      "                            OLS Regression Results                            \n",
      "==============================================================================\n",
      "Dep. Variable:                primary   R-squared:                       0.243\n",
      "Model:                            OLS   Adj. R-squared:                  0.238\n",
      "Method:                 Least Squares   F-statistic:                     47.69\n",
      "Date:                Wed, 20 Mar 2024   Prob (F-statistic):           7.09e-67\n",
      "Time:                        06:46:41   Log-Likelihood:                -599.27\n",
      "No. Observations:                1199   AIC:                             1217.\n",
      "Df Residuals:                    1190   BIC:                             1262.\n",
      "Df Model:                           8                                         \n",
      "Covariance Type:            nonrobust                                         \n",
      "=================================================================================\n",
      "                    coef    std err          t      P>|t|      [0.025      0.975]\n",
      "---------------------------------------------------------------------------------\n",
      "const             0.9032      0.119      7.574      0.000       0.669       1.137\n",
      "treat             0.0048      0.056      0.086      0.932      -0.106       0.116\n",
      "ycohort           0.1513      0.065      2.318      0.021       0.023       0.279\n",
      "ycohortxtreat     0.0671      0.065      1.027      0.304      -0.061       0.195\n",
      "age1994          -0.0126      0.003     -4.272      0.000      -0.018      -0.007\n",
      "distcapital      -0.0012      0.000     -6.567      0.000      -0.002      -0.001\n",
      "male1994          0.1031      0.023      4.422      0.000       0.057       0.149\n",
      "electric          0.0577      0.034      1.684      0.092      -0.010       0.125\n",
      "pipwater          0.0015      0.036      0.041      0.967      -0.070       0.073\n",
      "==============================================================================\n",
      "Omnibus:                       92.346   Durbin-Watson:                   1.752\n",
      "Prob(Omnibus):                  0.000   Jarque-Bera (JB):              112.488\n",
      "Skew:                          -0.744   Prob(JB):                     3.75e-25\n",
      "Kurtosis:                       2.809   Cond. No.                     1.13e+03\n",
      "==============================================================================\n",
      "\n",
      "Notes:\n",
      "[1] Standard Errors assume that the covariance matrix of the errors is correctly specified.\n",
      "[2] The condition number is large, 1.13e+03. This might indicate that there are\n",
      "strong multicollinearity or other numerical problems.\n"
     ]
    }
   ],
   "source": [
    "result = sm.OLS(data['primary'],x).fit()\n",
    "print(result.summary())\n",
    "### Absence d'effet ###"
   ]
  },
  {
   "cell_type": "markdown",
   "id": "eae5fd9d",
   "metadata": {},
   "source": [
    "IV. Quatrième partie : Hétérogénéité"
   ]
  },
  {
   "cell_type": "markdown",
   "id": "7d5dfb71",
   "metadata": {},
   "source": [
    "1. Etudiez l’hétérogénéité en fonction du sexe. "
   ]
  },
  {
   "cell_type": "markdown",
   "id": "a5855b80",
   "metadata": {},
   "source": [
    "Pour les Homme, absence d'effet"
   ]
  },
  {
   "cell_type": "code",
   "execution_count": 129,
   "id": "16b803fc",
   "metadata": {},
   "outputs": [
    {
     "name": "stdout",
     "output_type": "stream",
     "text": [
      "                            OLS Regression Results                            \n",
      "==============================================================================\n",
      "Dep. Variable:                primary   R-squared:                       0.150\n",
      "Model:                            OLS   Adj. R-squared:                  0.139\n",
      "Method:                 Least Squares   F-statistic:                     13.53\n",
      "Date:                Wed, 20 Mar 2024   Prob (F-statistic):           3.83e-16\n",
      "Time:                        06:46:41   Log-Likelihood:                -256.42\n",
      "No. Observations:                 543   AIC:                             528.8\n",
      "Df Residuals:                     535   BIC:                             563.2\n",
      "Df Model:                           7                                         \n",
      "Covariance Type:            nonrobust                                         \n",
      "=================================================================================\n",
      "                    coef    std err          t      P>|t|      [0.025      0.975]\n",
      "---------------------------------------------------------------------------------\n",
      "const             0.5494      0.087      6.346      0.000       0.379       0.720\n",
      "treat             0.1521      0.085      1.787      0.074      -0.015       0.319\n",
      "ycohort           0.0250      0.096      0.259      0.796      -0.164       0.214\n",
      "ycohortxtreat    -0.0791      0.097     -0.820      0.413      -0.269       0.111\n",
      "age1994          -0.0127      0.004     -2.932      0.004      -0.021      -0.004\n",
      "distcapital      -0.0012      0.000     -4.390      0.000      -0.002      -0.001\n",
      "male1994          0.5494      0.087      6.346      0.000       0.379       0.720\n",
      "electric          0.0388      0.051      0.768      0.443      -0.060       0.138\n",
      "pipwater          0.0063      0.053      0.120      0.905      -0.097       0.110\n",
      "==============================================================================\n",
      "Omnibus:                       77.870   Durbin-Watson:                   1.761\n",
      "Prob(Omnibus):                  0.000   Jarque-Bera (JB):              111.011\n",
      "Skew:                          -1.106   Prob(JB):                     7.84e-25\n",
      "Kurtosis:                       3.123   Cond. No.                     6.22e+17\n",
      "==============================================================================\n",
      "\n",
      "Notes:\n",
      "[1] Standard Errors assume that the covariance matrix of the errors is correctly specified.\n",
      "[2] The smallest eigenvalue is 1.26e-29. This might indicate that there are\n",
      "strong multicollinearity problems or that the design matrix is singular.\n"
     ]
    }
   ],
   "source": [
    "result = sm.OLS(data[data['male1994']==1]['primary'],x[data['male1994']==1]).fit()\n",
    "print(result.summary())"
   ]
  },
  {
   "cell_type": "markdown",
   "id": "1f78fa77",
   "metadata": {},
   "source": [
    "Pour les femmes, effet positif"
   ]
  },
  {
   "cell_type": "code",
   "execution_count": 130,
   "id": "8af6b2d2",
   "metadata": {},
   "outputs": [
    {
     "name": "stdout",
     "output_type": "stream",
     "text": [
      "                            OLS Regression Results                            \n",
      "==============================================================================\n",
      "Dep. Variable:                primary   R-squared:                       0.311\n",
      "Model:                            OLS   Adj. R-squared:                  0.304\n",
      "Method:                 Least Squares   F-statistic:                     41.80\n",
      "Date:                Wed, 20 Mar 2024   Prob (F-statistic):           1.17e-48\n",
      "Time:                        06:46:41   Log-Likelihood:                -326.41\n",
      "No. Observations:                 656   AIC:                             668.8\n",
      "Df Residuals:                     648   BIC:                             704.7\n",
      "Df Model:                           7                                         \n",
      "Covariance Type:            nonrobust                                         \n",
      "=================================================================================\n",
      "                    coef    std err          t      P>|t|      [0.025      0.975]\n",
      "---------------------------------------------------------------------------------\n",
      "const             0.7975      0.161      4.943      0.000       0.481       1.114\n",
      "treat            -0.1091      0.074     -1.468      0.142      -0.255       0.037\n",
      "ycohort           0.2686      0.088      3.067      0.002       0.097       0.441\n",
      "ycohortxtreat     0.1902      0.088      2.159      0.031       0.017       0.363\n",
      "age1994          -0.0113      0.004     -2.836      0.005      -0.019      -0.003\n",
      "distcapital      -0.0012      0.000     -5.175      0.000      -0.002      -0.001\n",
      "male1994       2.712e-17   1.43e-17      1.903      0.057   -8.63e-19    5.51e-17\n",
      "electric          0.0653      0.046      1.425      0.155      -0.025       0.155\n",
      "pipwater         -0.0080      0.050     -0.160      0.873      -0.106       0.090\n",
      "==============================================================================\n",
      "Omnibus:                       34.429   Durbin-Watson:                   1.883\n",
      "Prob(Omnibus):                  0.000   Jarque-Bera (JB):               39.043\n",
      "Skew:                          -0.597   Prob(JB):                     3.33e-09\n",
      "Kurtosis:                       2.948   Cond. No.                     3.36e+20\n",
      "==============================================================================\n",
      "\n",
      "Notes:\n",
      "[1] Standard Errors assume that the covariance matrix of the errors is correctly specified.\n",
      "[2] The smallest eigenvalue is 5.64e-35. This might indicate that there are\n",
      "strong multicollinearity problems or that the design matrix is singular.\n"
     ]
    }
   ],
   "source": [
    "result = sm.OLS(data[data['male1994']==0]['primary'],x[data['male1994']==0]).fit()\n",
    "print(result.summary())"
   ]
  }
 ],
 "metadata": {
  "kernelspec": {
   "display_name": "Python 3 (ipykernel)",
   "language": "python",
   "name": "python3"
  },
  "language_info": {
   "codemirror_mode": {
    "name": "ipython",
    "version": 3
   },
   "file_extension": ".py",
   "mimetype": "text/x-python",
   "name": "python",
   "nbconvert_exporter": "python",
   "pygments_lexer": "ipython3",
   "version": "3.11.5"
  }
 },
 "nbformat": 4,
 "nbformat_minor": 5
}
