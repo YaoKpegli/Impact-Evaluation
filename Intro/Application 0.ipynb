{
 "cells": [
  {
   "cell_type": "code",
   "execution_count": 1,
   "id": "4965137b",
   "metadata": {},
   "outputs": [],
   "source": [
    "import numpy as np\n",
    "import pandas as pd\n",
    "from random import seed\n",
    "import seaborn as sns\n",
    "sns.set()\n",
    "from sklearn.linear_model import LinearRegression"
   ]
  },
  {
   "cell_type": "markdown",
   "id": "75ac5b43",
   "metadata": {},
   "source": [
    "Question 1"
   ]
  },
  {
   "cell_type": "code",
   "execution_count": 2,
   "id": "c0da3efd",
   "metadata": {},
   "outputs": [],
   "source": [
    "mu, sigma, N = 0, 1, 1000000\n",
    "x = np.random.normal(mu, sigma, N)\n",
    "e = np.random.normal(mu, sigma, N)"
   ]
  },
  {
   "cell_type": "code",
   "execution_count": 3,
   "id": "9d7e0cea",
   "metadata": {},
   "outputs": [],
   "source": [
    "t = [i + 1 for i in range(N)]"
   ]
  },
  {
   "cell_type": "code",
   "execution_count": 4,
   "id": "e7c31dc3",
   "metadata": {},
   "outputs": [],
   "source": [
    "a,b = 2,1\n",
    "y = a*x+b+e\n",
    "data = pd.DataFrame({'x':x,'y':y,'t':t})\n",
    "data['DataNum']=np.ceil(data['t']/1000)"
   ]
  },
  {
   "cell_type": "code",
   "execution_count": 5,
   "id": "0308b9f5",
   "metadata": {},
   "outputs": [
    {
     "data": {
      "text/html": [
       "<div>\n",
       "<style scoped>\n",
       "    .dataframe tbody tr th:only-of-type {\n",
       "        vertical-align: middle;\n",
       "    }\n",
       "\n",
       "    .dataframe tbody tr th {\n",
       "        vertical-align: top;\n",
       "    }\n",
       "\n",
       "    .dataframe thead th {\n",
       "        text-align: right;\n",
       "    }\n",
       "</style>\n",
       "<table border=\"1\" class=\"dataframe\">\n",
       "  <thead>\n",
       "    <tr style=\"text-align: right;\">\n",
       "      <th></th>\n",
       "      <th>x</th>\n",
       "      <th>y</th>\n",
       "      <th>t</th>\n",
       "      <th>DataNum</th>\n",
       "    </tr>\n",
       "  </thead>\n",
       "  <tbody>\n",
       "    <tr>\n",
       "      <th>0</th>\n",
       "      <td>-2.031419</td>\n",
       "      <td>-3.060153</td>\n",
       "      <td>1</td>\n",
       "      <td>1.0</td>\n",
       "    </tr>\n",
       "    <tr>\n",
       "      <th>1</th>\n",
       "      <td>1.990418</td>\n",
       "      <td>2.962924</td>\n",
       "      <td>2</td>\n",
       "      <td>1.0</td>\n",
       "    </tr>\n",
       "    <tr>\n",
       "      <th>2</th>\n",
       "      <td>-0.184878</td>\n",
       "      <td>2.411078</td>\n",
       "      <td>3</td>\n",
       "      <td>1.0</td>\n",
       "    </tr>\n",
       "    <tr>\n",
       "      <th>3</th>\n",
       "      <td>-0.436836</td>\n",
       "      <td>0.401207</td>\n",
       "      <td>4</td>\n",
       "      <td>1.0</td>\n",
       "    </tr>\n",
       "    <tr>\n",
       "      <th>4</th>\n",
       "      <td>0.579963</td>\n",
       "      <td>3.310620</td>\n",
       "      <td>5</td>\n",
       "      <td>1.0</td>\n",
       "    </tr>\n",
       "    <tr>\n",
       "      <th>...</th>\n",
       "      <td>...</td>\n",
       "      <td>...</td>\n",
       "      <td>...</td>\n",
       "      <td>...</td>\n",
       "    </tr>\n",
       "    <tr>\n",
       "      <th>999995</th>\n",
       "      <td>-0.924371</td>\n",
       "      <td>0.303145</td>\n",
       "      <td>999996</td>\n",
       "      <td>1000.0</td>\n",
       "    </tr>\n",
       "    <tr>\n",
       "      <th>999996</th>\n",
       "      <td>0.929230</td>\n",
       "      <td>2.393717</td>\n",
       "      <td>999997</td>\n",
       "      <td>1000.0</td>\n",
       "    </tr>\n",
       "    <tr>\n",
       "      <th>999997</th>\n",
       "      <td>-1.544442</td>\n",
       "      <td>-3.532973</td>\n",
       "      <td>999998</td>\n",
       "      <td>1000.0</td>\n",
       "    </tr>\n",
       "    <tr>\n",
       "      <th>999998</th>\n",
       "      <td>0.211139</td>\n",
       "      <td>1.672473</td>\n",
       "      <td>999999</td>\n",
       "      <td>1000.0</td>\n",
       "    </tr>\n",
       "    <tr>\n",
       "      <th>999999</th>\n",
       "      <td>1.098078</td>\n",
       "      <td>3.600584</td>\n",
       "      <td>1000000</td>\n",
       "      <td>1000.0</td>\n",
       "    </tr>\n",
       "  </tbody>\n",
       "</table>\n",
       "<p>1000000 rows × 4 columns</p>\n",
       "</div>"
      ],
      "text/plain": [
       "               x         y        t  DataNum\n",
       "0      -2.031419 -3.060153        1      1.0\n",
       "1       1.990418  2.962924        2      1.0\n",
       "2      -0.184878  2.411078        3      1.0\n",
       "3      -0.436836  0.401207        4      1.0\n",
       "4       0.579963  3.310620        5      1.0\n",
       "...          ...       ...      ...      ...\n",
       "999995 -0.924371  0.303145   999996   1000.0\n",
       "999996  0.929230  2.393717   999997   1000.0\n",
       "999997 -1.544442 -3.532973   999998   1000.0\n",
       "999998  0.211139  1.672473   999999   1000.0\n",
       "999999  1.098078  3.600584  1000000   1000.0\n",
       "\n",
       "[1000000 rows x 4 columns]"
      ]
     },
     "execution_count": 5,
     "metadata": {},
     "output_type": "execute_result"
    }
   ],
   "source": [
    "data"
   ]
  },
  {
   "cell_type": "code",
   "execution_count": 6,
   "id": "f770fa7f",
   "metadata": {},
   "outputs": [],
   "source": [
    "import matplotlib.pyplot as plt\n",
    "import statsmodels.api as sm\n",
    "from sklearn.linear_model import LinearRegression"
   ]
  },
  {
   "cell_type": "code",
   "execution_count": 7,
   "id": "c9a2d1a0",
   "metadata": {},
   "outputs": [],
   "source": [
    "reg = LinearRegression()"
   ]
  },
  {
   "cell_type": "code",
   "execution_count": 8,
   "id": "cd6aba07",
   "metadata": {},
   "outputs": [
    {
     "data": {
      "text/html": [
       "<style>#sk-container-id-1 {color: black;}#sk-container-id-1 pre{padding: 0;}#sk-container-id-1 div.sk-toggleable {background-color: white;}#sk-container-id-1 label.sk-toggleable__label {cursor: pointer;display: block;width: 100%;margin-bottom: 0;padding: 0.3em;box-sizing: border-box;text-align: center;}#sk-container-id-1 label.sk-toggleable__label-arrow:before {content: \"▸\";float: left;margin-right: 0.25em;color: #696969;}#sk-container-id-1 label.sk-toggleable__label-arrow:hover:before {color: black;}#sk-container-id-1 div.sk-estimator:hover label.sk-toggleable__label-arrow:before {color: black;}#sk-container-id-1 div.sk-toggleable__content {max-height: 0;max-width: 0;overflow: hidden;text-align: left;background-color: #f0f8ff;}#sk-container-id-1 div.sk-toggleable__content pre {margin: 0.2em;color: black;border-radius: 0.25em;background-color: #f0f8ff;}#sk-container-id-1 input.sk-toggleable__control:checked~div.sk-toggleable__content {max-height: 200px;max-width: 100%;overflow: auto;}#sk-container-id-1 input.sk-toggleable__control:checked~label.sk-toggleable__label-arrow:before {content: \"▾\";}#sk-container-id-1 div.sk-estimator input.sk-toggleable__control:checked~label.sk-toggleable__label {background-color: #d4ebff;}#sk-container-id-1 div.sk-label input.sk-toggleable__control:checked~label.sk-toggleable__label {background-color: #d4ebff;}#sk-container-id-1 input.sk-hidden--visually {border: 0;clip: rect(1px 1px 1px 1px);clip: rect(1px, 1px, 1px, 1px);height: 1px;margin: -1px;overflow: hidden;padding: 0;position: absolute;width: 1px;}#sk-container-id-1 div.sk-estimator {font-family: monospace;background-color: #f0f8ff;border: 1px dotted black;border-radius: 0.25em;box-sizing: border-box;margin-bottom: 0.5em;}#sk-container-id-1 div.sk-estimator:hover {background-color: #d4ebff;}#sk-container-id-1 div.sk-parallel-item::after {content: \"\";width: 100%;border-bottom: 1px solid gray;flex-grow: 1;}#sk-container-id-1 div.sk-label:hover label.sk-toggleable__label {background-color: #d4ebff;}#sk-container-id-1 div.sk-serial::before {content: \"\";position: absolute;border-left: 1px solid gray;box-sizing: border-box;top: 0;bottom: 0;left: 50%;z-index: 0;}#sk-container-id-1 div.sk-serial {display: flex;flex-direction: column;align-items: center;background-color: white;padding-right: 0.2em;padding-left: 0.2em;position: relative;}#sk-container-id-1 div.sk-item {position: relative;z-index: 1;}#sk-container-id-1 div.sk-parallel {display: flex;align-items: stretch;justify-content: center;background-color: white;position: relative;}#sk-container-id-1 div.sk-item::before, #sk-container-id-1 div.sk-parallel-item::before {content: \"\";position: absolute;border-left: 1px solid gray;box-sizing: border-box;top: 0;bottom: 0;left: 50%;z-index: -1;}#sk-container-id-1 div.sk-parallel-item {display: flex;flex-direction: column;z-index: 1;position: relative;background-color: white;}#sk-container-id-1 div.sk-parallel-item:first-child::after {align-self: flex-end;width: 50%;}#sk-container-id-1 div.sk-parallel-item:last-child::after {align-self: flex-start;width: 50%;}#sk-container-id-1 div.sk-parallel-item:only-child::after {width: 0;}#sk-container-id-1 div.sk-dashed-wrapped {border: 1px dashed gray;margin: 0 0.4em 0.5em 0.4em;box-sizing: border-box;padding-bottom: 0.4em;background-color: white;}#sk-container-id-1 div.sk-label label {font-family: monospace;font-weight: bold;display: inline-block;line-height: 1.2em;}#sk-container-id-1 div.sk-label-container {text-align: center;}#sk-container-id-1 div.sk-container {/* jupyter's `normalize.less` sets `[hidden] { display: none; }` but bootstrap.min.css set `[hidden] { display: none !important; }` so we also need the `!important` here to be able to override the default hidden behavior on the sphinx rendered scikit-learn.org. See: https://github.com/scikit-learn/scikit-learn/issues/21755 */display: inline-block !important;position: relative;}#sk-container-id-1 div.sk-text-repr-fallback {display: none;}</style><div id=\"sk-container-id-1\" class=\"sk-top-container\"><div class=\"sk-text-repr-fallback\"><pre>LinearRegression()</pre><b>In a Jupyter environment, please rerun this cell to show the HTML representation or trust the notebook. <br />On GitHub, the HTML representation is unable to render, please try loading this page with nbviewer.org.</b></div><div class=\"sk-container\" hidden><div class=\"sk-item\"><div class=\"sk-estimator sk-toggleable\"><input class=\"sk-toggleable__control sk-hidden--visually\" id=\"sk-estimator-id-1\" type=\"checkbox\" checked><label for=\"sk-estimator-id-1\" class=\"sk-toggleable__label sk-toggleable__label-arrow\">LinearRegression</label><div class=\"sk-toggleable__content\"><pre>LinearRegression()</pre></div></div></div></div></div>"
      ],
      "text/plain": [
       "LinearRegression()"
      ]
     },
     "execution_count": 8,
     "metadata": {},
     "output_type": "execute_result"
    }
   ],
   "source": [
    "reg.fit(data['x'].values.reshape(-1,1),data['y'].values.reshape(-1,1))"
   ]
  },
  {
   "cell_type": "code",
   "execution_count": 9,
   "id": "f10ec558",
   "metadata": {},
   "outputs": [],
   "source": [
    "# biais\n",
    "a_biais=[]\n",
    "b_biais=[]\n",
    "Sim_biais=[]"
   ]
  },
  {
   "cell_type": "code",
   "execution_count": 10,
   "id": "380d97ee",
   "metadata": {},
   "outputs": [],
   "source": [
    "for i in set(data['DataNum']):\n",
    "    inputs = data[data['DataNum']==i]\n",
    "    reg.fit(inputs['x'].values.reshape(-1,1),inputs['y'].values.reshape(-1,1))\n",
    "    a_biais.append(reg.coef_[0][0])\n",
    "    b_biais.append(reg.intercept_[0])\n",
    "    Sim_biais.append(i)"
   ]
  },
  {
   "cell_type": "code",
   "execution_count": 11,
   "id": "8b5d712b",
   "metadata": {},
   "outputs": [],
   "source": [
    "result_dict = {'a_biais':a_biais,'b_biais':b_biais,'Sim_biais':Sim_biais}"
   ]
  },
  {
   "cell_type": "code",
   "execution_count": 12,
   "id": "251e1028",
   "metadata": {},
   "outputs": [
    {
     "data": {
      "text/html": [
       "<div>\n",
       "<style scoped>\n",
       "    .dataframe tbody tr th:only-of-type {\n",
       "        vertical-align: middle;\n",
       "    }\n",
       "\n",
       "    .dataframe tbody tr th {\n",
       "        vertical-align: top;\n",
       "    }\n",
       "\n",
       "    .dataframe thead th {\n",
       "        text-align: right;\n",
       "    }\n",
       "</style>\n",
       "<table border=\"1\" class=\"dataframe\">\n",
       "  <thead>\n",
       "    <tr style=\"text-align: right;\">\n",
       "      <th></th>\n",
       "      <th>a_biais</th>\n",
       "      <th>b_biais</th>\n",
       "      <th>Sim_biais</th>\n",
       "    </tr>\n",
       "  </thead>\n",
       "  <tbody>\n",
       "    <tr>\n",
       "      <th>0</th>\n",
       "      <td>1.990071</td>\n",
       "      <td>1.018883</td>\n",
       "      <td>1.0</td>\n",
       "    </tr>\n",
       "    <tr>\n",
       "      <th>1</th>\n",
       "      <td>1.976361</td>\n",
       "      <td>0.972919</td>\n",
       "      <td>2.0</td>\n",
       "    </tr>\n",
       "    <tr>\n",
       "      <th>2</th>\n",
       "      <td>1.955975</td>\n",
       "      <td>1.047986</td>\n",
       "      <td>3.0</td>\n",
       "    </tr>\n",
       "    <tr>\n",
       "      <th>3</th>\n",
       "      <td>1.947859</td>\n",
       "      <td>1.048737</td>\n",
       "      <td>4.0</td>\n",
       "    </tr>\n",
       "    <tr>\n",
       "      <th>4</th>\n",
       "      <td>2.014419</td>\n",
       "      <td>0.942409</td>\n",
       "      <td>5.0</td>\n",
       "    </tr>\n",
       "    <tr>\n",
       "      <th>...</th>\n",
       "      <td>...</td>\n",
       "      <td>...</td>\n",
       "      <td>...</td>\n",
       "    </tr>\n",
       "    <tr>\n",
       "      <th>995</th>\n",
       "      <td>2.004127</td>\n",
       "      <td>1.015044</td>\n",
       "      <td>996.0</td>\n",
       "    </tr>\n",
       "    <tr>\n",
       "      <th>996</th>\n",
       "      <td>1.983148</td>\n",
       "      <td>1.048660</td>\n",
       "      <td>997.0</td>\n",
       "    </tr>\n",
       "    <tr>\n",
       "      <th>997</th>\n",
       "      <td>2.012827</td>\n",
       "      <td>1.007549</td>\n",
       "      <td>998.0</td>\n",
       "    </tr>\n",
       "    <tr>\n",
       "      <th>998</th>\n",
       "      <td>1.994037</td>\n",
       "      <td>1.005226</td>\n",
       "      <td>999.0</td>\n",
       "    </tr>\n",
       "    <tr>\n",
       "      <th>999</th>\n",
       "      <td>1.993872</td>\n",
       "      <td>0.987754</td>\n",
       "      <td>1000.0</td>\n",
       "    </tr>\n",
       "  </tbody>\n",
       "</table>\n",
       "<p>1000 rows × 3 columns</p>\n",
       "</div>"
      ],
      "text/plain": [
       "      a_biais   b_biais  Sim_biais\n",
       "0    1.990071  1.018883        1.0\n",
       "1    1.976361  0.972919        2.0\n",
       "2    1.955975  1.047986        3.0\n",
       "3    1.947859  1.048737        4.0\n",
       "4    2.014419  0.942409        5.0\n",
       "..        ...       ...        ...\n",
       "995  2.004127  1.015044      996.0\n",
       "996  1.983148  1.048660      997.0\n",
       "997  2.012827  1.007549      998.0\n",
       "998  1.994037  1.005226      999.0\n",
       "999  1.993872  0.987754     1000.0\n",
       "\n",
       "[1000 rows x 3 columns]"
      ]
     },
     "execution_count": 12,
     "metadata": {},
     "output_type": "execute_result"
    }
   ],
   "source": [
    "result_biais=pd.DataFrame(result_dict)\n",
    "result_biais"
   ]
  },
  {
   "cell_type": "code",
   "execution_count": 13,
   "id": "647d0398",
   "metadata": {},
   "outputs": [
    {
     "data": {
      "text/html": [
       "<div>\n",
       "<style scoped>\n",
       "    .dataframe tbody tr th:only-of-type {\n",
       "        vertical-align: middle;\n",
       "    }\n",
       "\n",
       "    .dataframe tbody tr th {\n",
       "        vertical-align: top;\n",
       "    }\n",
       "\n",
       "    .dataframe thead th {\n",
       "        text-align: right;\n",
       "    }\n",
       "</style>\n",
       "<table border=\"1\" class=\"dataframe\">\n",
       "  <thead>\n",
       "    <tr style=\"text-align: right;\">\n",
       "      <th></th>\n",
       "      <th>a_biais</th>\n",
       "      <th>b_biais</th>\n",
       "      <th>Sim_biais</th>\n",
       "    </tr>\n",
       "  </thead>\n",
       "  <tbody>\n",
       "    <tr>\n",
       "      <th>count</th>\n",
       "      <td>1000.000000</td>\n",
       "      <td>1000.000000</td>\n",
       "      <td>1000.000000</td>\n",
       "    </tr>\n",
       "    <tr>\n",
       "      <th>mean</th>\n",
       "      <td>1.998980</td>\n",
       "      <td>1.001505</td>\n",
       "      <td>500.500000</td>\n",
       "    </tr>\n",
       "    <tr>\n",
       "      <th>std</th>\n",
       "      <td>0.032544</td>\n",
       "      <td>0.031760</td>\n",
       "      <td>288.819436</td>\n",
       "    </tr>\n",
       "    <tr>\n",
       "      <th>min</th>\n",
       "      <td>1.898784</td>\n",
       "      <td>0.898365</td>\n",
       "      <td>1.000000</td>\n",
       "    </tr>\n",
       "    <tr>\n",
       "      <th>25%</th>\n",
       "      <td>1.976352</td>\n",
       "      <td>0.979129</td>\n",
       "      <td>250.750000</td>\n",
       "    </tr>\n",
       "    <tr>\n",
       "      <th>50%</th>\n",
       "      <td>1.999258</td>\n",
       "      <td>1.002117</td>\n",
       "      <td>500.500000</td>\n",
       "    </tr>\n",
       "    <tr>\n",
       "      <th>75%</th>\n",
       "      <td>2.020746</td>\n",
       "      <td>1.023942</td>\n",
       "      <td>750.250000</td>\n",
       "    </tr>\n",
       "    <tr>\n",
       "      <th>max</th>\n",
       "      <td>2.098353</td>\n",
       "      <td>1.100340</td>\n",
       "      <td>1000.000000</td>\n",
       "    </tr>\n",
       "  </tbody>\n",
       "</table>\n",
       "</div>"
      ],
      "text/plain": [
       "           a_biais      b_biais    Sim_biais\n",
       "count  1000.000000  1000.000000  1000.000000\n",
       "mean      1.998980     1.001505   500.500000\n",
       "std       0.032544     0.031760   288.819436\n",
       "min       1.898784     0.898365     1.000000\n",
       "25%       1.976352     0.979129   250.750000\n",
       "50%       1.999258     1.002117   500.500000\n",
       "75%       2.020746     1.023942   750.250000\n",
       "max       2.098353     1.100340  1000.000000"
      ]
     },
     "execution_count": 13,
     "metadata": {},
     "output_type": "execute_result"
    }
   ],
   "source": [
    "result_biais.describe()"
   ]
  },
  {
   "cell_type": "code",
   "execution_count": 14,
   "id": "c1e3441f",
   "metadata": {},
   "outputs": [
    {
     "data": {
      "text/plain": [
       "(1.9989796583522284, 1.0015047714824)"
      ]
     },
     "execution_count": 14,
     "metadata": {},
     "output_type": "execute_result"
    }
   ],
   "source": [
    "### Estimateur sans biais\n",
    "np.mean(result_biais['a_biais']) , np.mean(result_biais['b_biais'])"
   ]
  },
  {
   "cell_type": "code",
   "execution_count": 15,
   "id": "d5b9a49e",
   "metadata": {},
   "outputs": [
    {
     "data": {
      "text/plain": [
       "<matplotlib.lines.Line2D at 0x1fb1d739e10>"
      ]
     },
     "execution_count": 15,
     "metadata": {},
     "output_type": "execute_result"
    },
    {
     "data": {
      "image/png": "[encoded data removed]",
      "text/plain": [
       "<Figure size 640x480 with 1 Axes>"
      ]
     },
     "metadata": {},
     "output_type": "display_data"
    }
   ],
   "source": [
    "dens = sns.kdeplot(result_biais['a_biais'], color = \"limegreen\")\n",
    "dens.axvline(x = 2, color = \"red\")\n",
    "dens.axvline(x = np.mean(result_biais['a_biais']))"
   ]
  },
  {
   "cell_type": "code",
   "execution_count": 16,
   "id": "64dc23ed",
   "metadata": {},
   "outputs": [],
   "source": [
    "# consistent\n",
    "a_cons=[]\n",
    "b_cons=[]\n",
    "Sim_cons=[]"
   ]
  },
  {
   "cell_type": "code",
   "execution_count": 17,
   "id": "132e0e86",
   "metadata": {},
   "outputs": [],
   "source": [
    "n = [(1+i)*25  for i in range(1000)]"
   ]
  },
  {
   "cell_type": "code",
   "execution_count": 18,
   "id": "bb988a22",
   "metadata": {},
   "outputs": [],
   "source": [
    "for i in n:\n",
    "    inputs = data[data['t']<=i]\n",
    "    reg.fit(inputs['x'].values.reshape(-1,1),inputs['y'].values.reshape(-1,1))\n",
    "    a_cons.append(reg.coef_[0][0])\n",
    "    b_cons.append(reg.intercept_[0])\n",
    "    Sim_cons.append(i)"
   ]
  },
  {
   "cell_type": "code",
   "execution_count": 19,
   "id": "666257bd",
   "metadata": {},
   "outputs": [],
   "source": [
    "result_dict_cons = {'a_cons':a_cons,'b_cons':b_cons,'Sim_cons':Sim_cons}"
   ]
  },
  {
   "cell_type": "code",
   "execution_count": 20,
   "id": "8c4cd00f",
   "metadata": {},
   "outputs": [
    {
     "data": {
      "text/html": [
       "<div>\n",
       "<style scoped>\n",
       "    .dataframe tbody tr th:only-of-type {\n",
       "        vertical-align: middle;\n",
       "    }\n",
       "\n",
       "    .dataframe tbody tr th {\n",
       "        vertical-align: top;\n",
       "    }\n",
       "\n",
       "    .dataframe thead th {\n",
       "        text-align: right;\n",
       "    }\n",
       "</style>\n",
       "<table border=\"1\" class=\"dataframe\">\n",
       "  <thead>\n",
       "    <tr style=\"text-align: right;\">\n",
       "      <th></th>\n",
       "      <th>a_cons</th>\n",
       "      <th>b_cons</th>\n",
       "      <th>Sim_cons</th>\n",
       "    </tr>\n",
       "  </thead>\n",
       "  <tbody>\n",
       "    <tr>\n",
       "      <th>0</th>\n",
       "      <td>1.875986</td>\n",
       "      <td>1.087233</td>\n",
       "      <td>25</td>\n",
       "    </tr>\n",
       "    <tr>\n",
       "      <th>1</th>\n",
       "      <td>1.878379</td>\n",
       "      <td>1.079673</td>\n",
       "      <td>50</td>\n",
       "    </tr>\n",
       "    <tr>\n",
       "      <th>2</th>\n",
       "      <td>1.967204</td>\n",
       "      <td>1.039860</td>\n",
       "      <td>75</td>\n",
       "    </tr>\n",
       "    <tr>\n",
       "      <th>3</th>\n",
       "      <td>1.958517</td>\n",
       "      <td>1.046786</td>\n",
       "      <td>100</td>\n",
       "    </tr>\n",
       "    <tr>\n",
       "      <th>4</th>\n",
       "      <td>1.980035</td>\n",
       "      <td>1.042332</td>\n",
       "      <td>125</td>\n",
       "    </tr>\n",
       "    <tr>\n",
       "      <th>...</th>\n",
       "      <td>...</td>\n",
       "      <td>...</td>\n",
       "      <td>...</td>\n",
       "    </tr>\n",
       "    <tr>\n",
       "      <th>995</th>\n",
       "      <td>2.004650</td>\n",
       "      <td>1.002716</td>\n",
       "      <td>24900</td>\n",
       "    </tr>\n",
       "    <tr>\n",
       "      <th>996</th>\n",
       "      <td>2.004437</td>\n",
       "      <td>1.002657</td>\n",
       "      <td>24925</td>\n",
       "    </tr>\n",
       "    <tr>\n",
       "      <th>997</th>\n",
       "      <td>2.004069</td>\n",
       "      <td>1.002806</td>\n",
       "      <td>24950</td>\n",
       "    </tr>\n",
       "    <tr>\n",
       "      <th>998</th>\n",
       "      <td>2.003975</td>\n",
       "      <td>1.002905</td>\n",
       "      <td>24975</td>\n",
       "    </tr>\n",
       "    <tr>\n",
       "      <th>999</th>\n",
       "      <td>2.004363</td>\n",
       "      <td>1.002688</td>\n",
       "      <td>25000</td>\n",
       "    </tr>\n",
       "  </tbody>\n",
       "</table>\n",
       "<p>1000 rows × 3 columns</p>\n",
       "</div>"
      ],
      "text/plain": [
       "       a_cons    b_cons  Sim_cons\n",
       "0    1.875986  1.087233        25\n",
       "1    1.878379  1.079673        50\n",
       "2    1.967204  1.039860        75\n",
       "3    1.958517  1.046786       100\n",
       "4    1.980035  1.042332       125\n",
       "..        ...       ...       ...\n",
       "995  2.004650  1.002716     24900\n",
       "996  2.004437  1.002657     24925\n",
       "997  2.004069  1.002806     24950\n",
       "998  2.003975  1.002905     24975\n",
       "999  2.004363  1.002688     25000\n",
       "\n",
       "[1000 rows x 3 columns]"
      ]
     },
     "execution_count": 20,
     "metadata": {},
     "output_type": "execute_result"
    }
   ],
   "source": [
    "result_cons=pd.DataFrame(result_dict_cons)\n",
    "result_cons"
   ]
  },
  {
   "cell_type": "code",
   "execution_count": 21,
   "id": "e3b5b2f2",
   "metadata": {},
   "outputs": [
    {
     "data": {
      "text/plain": [
       "<Axes: xlabel='Sim_cons', ylabel='a_cons'>"
      ]
     },
     "execution_count": 21,
     "metadata": {},
     "output_type": "execute_result"
    },
    {
     "data": {
      "image/png": "[encoded data removed]",
      "text/plain": [
       "<Figure size 640x480 with 1 Axes>"
      ]
     },
     "metadata": {},
     "output_type": "display_data"
    }
   ],
   "source": [
    "# Estimateur consistant\n",
    "sns.lineplot(data=result_cons, x=\"Sim_cons\", y=\"a_cons\")\n",
    "sns.lineplot(data=result_cons, x=\"Sim_cons\", y=2, color = \"red\")\n",
    "sns.lineplot(data=result_cons, x=\"Sim_cons\", y=np.mean(a_cons))"
   ]
  },
  {
   "cell_type": "markdown",
   "id": "9b282262",
   "metadata": {},
   "source": [
    "Question 2"
   ]
  },
  {
   "cell_type": "code",
   "execution_count": 22,
   "id": "f73adbcc",
   "metadata": {},
   "outputs": [
    {
     "data": {
      "text/html": [
       "<div>\n",
       "<style scoped>\n",
       "    .dataframe tbody tr th:only-of-type {\n",
       "        vertical-align: middle;\n",
       "    }\n",
       "\n",
       "    .dataframe tbody tr th {\n",
       "        vertical-align: top;\n",
       "    }\n",
       "\n",
       "    .dataframe thead th {\n",
       "        text-align: right;\n",
       "    }\n",
       "</style>\n",
       "<table border=\"1\" class=\"dataframe\">\n",
       "  <thead>\n",
       "    <tr style=\"text-align: right;\">\n",
       "      <th></th>\n",
       "      <th>x</th>\n",
       "      <th>y</th>\n",
       "      <th>t</th>\n",
       "      <th>DataNum</th>\n",
       "    </tr>\n",
       "  </thead>\n",
       "  <tbody>\n",
       "    <tr>\n",
       "      <th>0</th>\n",
       "      <td>-2.031419</td>\n",
       "      <td>-3.060153</td>\n",
       "      <td>1</td>\n",
       "      <td>1.0</td>\n",
       "    </tr>\n",
       "    <tr>\n",
       "      <th>1</th>\n",
       "      <td>1.990418</td>\n",
       "      <td>2.962924</td>\n",
       "      <td>2</td>\n",
       "      <td>1.0</td>\n",
       "    </tr>\n",
       "    <tr>\n",
       "      <th>2</th>\n",
       "      <td>-0.184878</td>\n",
       "      <td>2.411078</td>\n",
       "      <td>3</td>\n",
       "      <td>1.0</td>\n",
       "    </tr>\n",
       "    <tr>\n",
       "      <th>3</th>\n",
       "      <td>-0.436836</td>\n",
       "      <td>0.401207</td>\n",
       "      <td>4</td>\n",
       "      <td>1.0</td>\n",
       "    </tr>\n",
       "    <tr>\n",
       "      <th>4</th>\n",
       "      <td>0.579963</td>\n",
       "      <td>3.310620</td>\n",
       "      <td>5</td>\n",
       "      <td>1.0</td>\n",
       "    </tr>\n",
       "  </tbody>\n",
       "</table>\n",
       "</div>"
      ],
      "text/plain": [
       "          x         y  t  DataNum\n",
       "0 -2.031419 -3.060153  1      1.0\n",
       "1  1.990418  2.962924  2      1.0\n",
       "2 -0.184878  2.411078  3      1.0\n",
       "3 -0.436836  0.401207  4      1.0\n",
       "4  0.579963  3.310620  5      1.0"
      ]
     },
     "execution_count": 22,
     "metadata": {},
     "output_type": "execute_result"
    }
   ],
   "source": [
    "data.head(5)"
   ]
  },
  {
   "cell_type": "code",
   "execution_count": 23,
   "id": "9804947a",
   "metadata": {},
   "outputs": [],
   "source": [
    "mu = np.random.normal(mu, sigma, N)\n",
    "w = x + mu\n",
    "data['y'] = a*x+b+w+e\n",
    "#data = pd.DataFrame({'x':x,'y':y,'t':t})\n",
    "#data['DataNum']=np.ceil(data['t']/1000)"
   ]
  },
  {
   "cell_type": "code",
   "execution_count": 24,
   "id": "8a97a28e",
   "metadata": {},
   "outputs": [
    {
     "data": {
      "text/html": [
       "<div>\n",
       "<style scoped>\n",
       "    .dataframe tbody tr th:only-of-type {\n",
       "        vertical-align: middle;\n",
       "    }\n",
       "\n",
       "    .dataframe tbody tr th {\n",
       "        vertical-align: top;\n",
       "    }\n",
       "\n",
       "    .dataframe thead th {\n",
       "        text-align: right;\n",
       "    }\n",
       "</style>\n",
       "<table border=\"1\" class=\"dataframe\">\n",
       "  <thead>\n",
       "    <tr style=\"text-align: right;\">\n",
       "      <th></th>\n",
       "      <th>x</th>\n",
       "      <th>y</th>\n",
       "      <th>t</th>\n",
       "      <th>DataNum</th>\n",
       "    </tr>\n",
       "  </thead>\n",
       "  <tbody>\n",
       "    <tr>\n",
       "      <th>0</th>\n",
       "      <td>-2.031419</td>\n",
       "      <td>-6.124549</td>\n",
       "      <td>1</td>\n",
       "      <td>1.0</td>\n",
       "    </tr>\n",
       "    <tr>\n",
       "      <th>1</th>\n",
       "      <td>1.990418</td>\n",
       "      <td>3.622506</td>\n",
       "      <td>2</td>\n",
       "      <td>1.0</td>\n",
       "    </tr>\n",
       "    <tr>\n",
       "      <th>2</th>\n",
       "      <td>-0.184878</td>\n",
       "      <td>3.309076</td>\n",
       "      <td>3</td>\n",
       "      <td>1.0</td>\n",
       "    </tr>\n",
       "    <tr>\n",
       "      <th>3</th>\n",
       "      <td>-0.436836</td>\n",
       "      <td>1.257427</td>\n",
       "      <td>4</td>\n",
       "      <td>1.0</td>\n",
       "    </tr>\n",
       "    <tr>\n",
       "      <th>4</th>\n",
       "      <td>0.579963</td>\n",
       "      <td>3.996203</td>\n",
       "      <td>5</td>\n",
       "      <td>1.0</td>\n",
       "    </tr>\n",
       "  </tbody>\n",
       "</table>\n",
       "</div>"
      ],
      "text/plain": [
       "          x         y  t  DataNum\n",
       "0 -2.031419 -6.124549  1      1.0\n",
       "1  1.990418  3.622506  2      1.0\n",
       "2 -0.184878  3.309076  3      1.0\n",
       "3 -0.436836  1.257427  4      1.0\n",
       "4  0.579963  3.996203  5      1.0"
      ]
     },
     "execution_count": 24,
     "metadata": {},
     "output_type": "execute_result"
    }
   ],
   "source": [
    "data.head(5)"
   ]
  },
  {
   "cell_type": "code",
   "execution_count": 25,
   "id": "ec5b35af",
   "metadata": {},
   "outputs": [
    {
     "data": {
      "text/html": [
       "<style>#sk-container-id-2 {color: black;}#sk-container-id-2 pre{padding: 0;}#sk-container-id-2 div.sk-toggleable {background-color: white;}#sk-container-id-2 label.sk-toggleable__label {cursor: pointer;display: block;width: 100%;margin-bottom: 0;padding: 0.3em;box-sizing: border-box;text-align: center;}#sk-container-id-2 label.sk-toggleable__label-arrow:before {content: \"▸\";float: left;margin-right: 0.25em;color: #696969;}#sk-container-id-2 label.sk-toggleable__label-arrow:hover:before {color: black;}#sk-container-id-2 div.sk-estimator:hover label.sk-toggleable__label-arrow:before {color: black;}#sk-container-id-2 div.sk-toggleable__content {max-height: 0;max-width: 0;overflow: hidden;text-align: left;background-color: #f0f8ff;}#sk-container-id-2 div.sk-toggleable__content pre {margin: 0.2em;color: black;border-radius: 0.25em;background-color: #f0f8ff;}#sk-container-id-2 input.sk-toggleable__control:checked~div.sk-toggleable__content {max-height: 200px;max-width: 100%;overflow: auto;}#sk-container-id-2 input.sk-toggleable__control:checked~label.sk-toggleable__label-arrow:before {content: \"▾\";}#sk-container-id-2 div.sk-estimator input.sk-toggleable__control:checked~label.sk-toggleable__label {background-color: #d4ebff;}#sk-container-id-2 div.sk-label input.sk-toggleable__control:checked~label.sk-toggleable__label {background-color: #d4ebff;}#sk-container-id-2 input.sk-hidden--visually {border: 0;clip: rect(1px 1px 1px 1px);clip: rect(1px, 1px, 1px, 1px);height: 1px;margin: -1px;overflow: hidden;padding: 0;position: absolute;width: 1px;}#sk-container-id-2 div.sk-estimator {font-family: monospace;background-color: #f0f8ff;border: 1px dotted black;border-radius: 0.25em;box-sizing: border-box;margin-bottom: 0.5em;}#sk-container-id-2 div.sk-estimator:hover {background-color: #d4ebff;}#sk-container-id-2 div.sk-parallel-item::after {content: \"\";width: 100%;border-bottom: 1px solid gray;flex-grow: 1;}#sk-container-id-2 div.sk-label:hover label.sk-toggleable__label {background-color: #d4ebff;}#sk-container-id-2 div.sk-serial::before {content: \"\";position: absolute;border-left: 1px solid gray;box-sizing: border-box;top: 0;bottom: 0;left: 50%;z-index: 0;}#sk-container-id-2 div.sk-serial {display: flex;flex-direction: column;align-items: center;background-color: white;padding-right: 0.2em;padding-left: 0.2em;position: relative;}#sk-container-id-2 div.sk-item {position: relative;z-index: 1;}#sk-container-id-2 div.sk-parallel {display: flex;align-items: stretch;justify-content: center;background-color: white;position: relative;}#sk-container-id-2 div.sk-item::before, #sk-container-id-2 div.sk-parallel-item::before {content: \"\";position: absolute;border-left: 1px solid gray;box-sizing: border-box;top: 0;bottom: 0;left: 50%;z-index: -1;}#sk-container-id-2 div.sk-parallel-item {display: flex;flex-direction: column;z-index: 1;position: relative;background-color: white;}#sk-container-id-2 div.sk-parallel-item:first-child::after {align-self: flex-end;width: 50%;}#sk-container-id-2 div.sk-parallel-item:last-child::after {align-self: flex-start;width: 50%;}#sk-container-id-2 div.sk-parallel-item:only-child::after {width: 0;}#sk-container-id-2 div.sk-dashed-wrapped {border: 1px dashed gray;margin: 0 0.4em 0.5em 0.4em;box-sizing: border-box;padding-bottom: 0.4em;background-color: white;}#sk-container-id-2 div.sk-label label {font-family: monospace;font-weight: bold;display: inline-block;line-height: 1.2em;}#sk-container-id-2 div.sk-label-container {text-align: center;}#sk-container-id-2 div.sk-container {/* jupyter's `normalize.less` sets `[hidden] { display: none; }` but bootstrap.min.css set `[hidden] { display: none !important; }` so we also need the `!important` here to be able to override the default hidden behavior on the sphinx rendered scikit-learn.org. See: https://github.com/scikit-learn/scikit-learn/issues/21755 */display: inline-block !important;position: relative;}#sk-container-id-2 div.sk-text-repr-fallback {display: none;}</style><div id=\"sk-container-id-2\" class=\"sk-top-container\"><div class=\"sk-text-repr-fallback\"><pre>LinearRegression()</pre><b>In a Jupyter environment, please rerun this cell to show the HTML representation or trust the notebook. <br />On GitHub, the HTML representation is unable to render, please try loading this page with nbviewer.org.</b></div><div class=\"sk-container\" hidden><div class=\"sk-item\"><div class=\"sk-estimator sk-toggleable\"><input class=\"sk-toggleable__control sk-hidden--visually\" id=\"sk-estimator-id-2\" type=\"checkbox\" checked><label for=\"sk-estimator-id-2\" class=\"sk-toggleable__label sk-toggleable__label-arrow\">LinearRegression</label><div class=\"sk-toggleable__content\"><pre>LinearRegression()</pre></div></div></div></div></div>"
      ],
      "text/plain": [
       "LinearRegression()"
      ]
     },
     "execution_count": 25,
     "metadata": {},
     "output_type": "execute_result"
    }
   ],
   "source": [
    "reg.fit(data['x'].values.reshape(-1,1),data['y'].values.reshape(-1,1))"
   ]
  },
  {
   "cell_type": "code",
   "execution_count": 26,
   "id": "d6c8a1c1",
   "metadata": {},
   "outputs": [],
   "source": [
    "# biais\n",
    "a_biais=[]\n",
    "b_biais=[]\n",
    "Sim_biais=[]"
   ]
  },
  {
   "cell_type": "code",
   "execution_count": 27,
   "id": "cc2de947",
   "metadata": {},
   "outputs": [],
   "source": [
    "for i in set(data['DataNum']):\n",
    "    inputs = data[data['DataNum']==i]\n",
    "    reg.fit(inputs['x'].values.reshape(-1,1),inputs['y'].values.reshape(-1,1))\n",
    "    a_biais.append(reg.coef_[0][0])\n",
    "    b_biais.append(reg.intercept_[0])\n",
    "    Sim_biais.append(i)"
   ]
  },
  {
   "cell_type": "code",
   "execution_count": 28,
   "id": "c0b1be6a",
   "metadata": {},
   "outputs": [],
   "source": [
    "result_dict = {'a_biais':a_biais,'b_biais':b_biais,'Sim_biais':Sim_biais}"
   ]
  },
  {
   "cell_type": "code",
   "execution_count": 29,
   "id": "d7089f8d",
   "metadata": {},
   "outputs": [
    {
     "data": {
      "text/html": [
       "<div>\n",
       "<style scoped>\n",
       "    .dataframe tbody tr th:only-of-type {\n",
       "        vertical-align: middle;\n",
       "    }\n",
       "\n",
       "    .dataframe tbody tr th {\n",
       "        vertical-align: top;\n",
       "    }\n",
       "\n",
       "    .dataframe thead th {\n",
       "        text-align: right;\n",
       "    }\n",
       "</style>\n",
       "<table border=\"1\" class=\"dataframe\">\n",
       "  <thead>\n",
       "    <tr style=\"text-align: right;\">\n",
       "      <th></th>\n",
       "      <th>a_biais</th>\n",
       "      <th>b_biais</th>\n",
       "      <th>Sim_biais</th>\n",
       "    </tr>\n",
       "  </thead>\n",
       "  <tbody>\n",
       "    <tr>\n",
       "      <th>0</th>\n",
       "      <td>2.969347</td>\n",
       "      <td>1.040924</td>\n",
       "      <td>1.0</td>\n",
       "    </tr>\n",
       "    <tr>\n",
       "      <th>1</th>\n",
       "      <td>2.969036</td>\n",
       "      <td>0.994299</td>\n",
       "      <td>2.0</td>\n",
       "    </tr>\n",
       "    <tr>\n",
       "      <th>2</th>\n",
       "      <td>2.989094</td>\n",
       "      <td>0.990378</td>\n",
       "      <td>3.0</td>\n",
       "    </tr>\n",
       "    <tr>\n",
       "      <th>3</th>\n",
       "      <td>2.997982</td>\n",
       "      <td>1.031147</td>\n",
       "      <td>4.0</td>\n",
       "    </tr>\n",
       "    <tr>\n",
       "      <th>4</th>\n",
       "      <td>3.030509</td>\n",
       "      <td>0.944487</td>\n",
       "      <td>5.0</td>\n",
       "    </tr>\n",
       "    <tr>\n",
       "      <th>...</th>\n",
       "      <td>...</td>\n",
       "      <td>...</td>\n",
       "      <td>...</td>\n",
       "    </tr>\n",
       "    <tr>\n",
       "      <th>995</th>\n",
       "      <td>3.039147</td>\n",
       "      <td>0.999586</td>\n",
       "      <td>996.0</td>\n",
       "    </tr>\n",
       "    <tr>\n",
       "      <th>996</th>\n",
       "      <td>2.926501</td>\n",
       "      <td>1.055191</td>\n",
       "      <td>997.0</td>\n",
       "    </tr>\n",
       "    <tr>\n",
       "      <th>997</th>\n",
       "      <td>3.049599</td>\n",
       "      <td>0.989531</td>\n",
       "      <td>998.0</td>\n",
       "    </tr>\n",
       "    <tr>\n",
       "      <th>998</th>\n",
       "      <td>2.966902</td>\n",
       "      <td>1.008113</td>\n",
       "      <td>999.0</td>\n",
       "    </tr>\n",
       "    <tr>\n",
       "      <th>999</th>\n",
       "      <td>3.008076</td>\n",
       "      <td>0.994304</td>\n",
       "      <td>1000.0</td>\n",
       "    </tr>\n",
       "  </tbody>\n",
       "</table>\n",
       "<p>1000 rows × 3 columns</p>\n",
       "</div>"
      ],
      "text/plain": [
       "      a_biais   b_biais  Sim_biais\n",
       "0    2.969347  1.040924        1.0\n",
       "1    2.969036  0.994299        2.0\n",
       "2    2.989094  0.990378        3.0\n",
       "3    2.997982  1.031147        4.0\n",
       "4    3.030509  0.944487        5.0\n",
       "..        ...       ...        ...\n",
       "995  3.039147  0.999586      996.0\n",
       "996  2.926501  1.055191      997.0\n",
       "997  3.049599  0.989531      998.0\n",
       "998  2.966902  1.008113      999.0\n",
       "999  3.008076  0.994304     1000.0\n",
       "\n",
       "[1000 rows x 3 columns]"
      ]
     },
     "execution_count": 29,
     "metadata": {},
     "output_type": "execute_result"
    }
   ],
   "source": [
    "result_biais=pd.DataFrame(result_dict)\n",
    "result_biais"
   ]
  },
  {
   "cell_type": "code",
   "execution_count": 30,
   "id": "0fd10144",
   "metadata": {},
   "outputs": [
    {
     "data": {
      "text/html": [
       "<div>\n",
       "<style scoped>\n",
       "    .dataframe tbody tr th:only-of-type {\n",
       "        vertical-align: middle;\n",
       "    }\n",
       "\n",
       "    .dataframe tbody tr th {\n",
       "        vertical-align: top;\n",
       "    }\n",
       "\n",
       "    .dataframe thead th {\n",
       "        text-align: right;\n",
       "    }\n",
       "</style>\n",
       "<table border=\"1\" class=\"dataframe\">\n",
       "  <thead>\n",
       "    <tr style=\"text-align: right;\">\n",
       "      <th></th>\n",
       "      <th>a_biais</th>\n",
       "      <th>b_biais</th>\n",
       "      <th>Sim_biais</th>\n",
       "    </tr>\n",
       "  </thead>\n",
       "  <tbody>\n",
       "    <tr>\n",
       "      <th>count</th>\n",
       "      <td>1000.000000</td>\n",
       "      <td>1000.000000</td>\n",
       "      <td>1000.000000</td>\n",
       "    </tr>\n",
       "    <tr>\n",
       "      <th>mean</th>\n",
       "      <td>3.000865</td>\n",
       "      <td>1.001016</td>\n",
       "      <td>500.500000</td>\n",
       "    </tr>\n",
       "    <tr>\n",
       "      <th>std</th>\n",
       "      <td>0.045499</td>\n",
       "      <td>0.045939</td>\n",
       "      <td>288.819436</td>\n",
       "    </tr>\n",
       "    <tr>\n",
       "      <th>min</th>\n",
       "      <td>2.862369</td>\n",
       "      <td>0.871808</td>\n",
       "      <td>1.000000</td>\n",
       "    </tr>\n",
       "    <tr>\n",
       "      <th>25%</th>\n",
       "      <td>2.967450</td>\n",
       "      <td>0.968866</td>\n",
       "      <td>250.750000</td>\n",
       "    </tr>\n",
       "    <tr>\n",
       "      <th>50%</th>\n",
       "      <td>3.000475</td>\n",
       "      <td>1.000476</td>\n",
       "      <td>500.500000</td>\n",
       "    </tr>\n",
       "    <tr>\n",
       "      <th>75%</th>\n",
       "      <td>3.031739</td>\n",
       "      <td>1.034256</td>\n",
       "      <td>750.250000</td>\n",
       "    </tr>\n",
       "    <tr>\n",
       "      <th>max</th>\n",
       "      <td>3.164342</td>\n",
       "      <td>1.133574</td>\n",
       "      <td>1000.000000</td>\n",
       "    </tr>\n",
       "  </tbody>\n",
       "</table>\n",
       "</div>"
      ],
      "text/plain": [
       "           a_biais      b_biais    Sim_biais\n",
       "count  1000.000000  1000.000000  1000.000000\n",
       "mean      3.000865     1.001016   500.500000\n",
       "std       0.045499     0.045939   288.819436\n",
       "min       2.862369     0.871808     1.000000\n",
       "25%       2.967450     0.968866   250.750000\n",
       "50%       3.000475     1.000476   500.500000\n",
       "75%       3.031739     1.034256   750.250000\n",
       "max       3.164342     1.133574  1000.000000"
      ]
     },
     "execution_count": 30,
     "metadata": {},
     "output_type": "execute_result"
    }
   ],
   "source": [
    "result_biais.describe()"
   ]
  },
  {
   "cell_type": "code",
   "execution_count": 31,
   "id": "fe73bb1d",
   "metadata": {},
   "outputs": [
    {
     "data": {
      "text/plain": [
       "(3.0008649100553892, 1.0010160685944065)"
      ]
     },
     "execution_count": 31,
     "metadata": {},
     "output_type": "execute_result"
    }
   ],
   "source": [
    "### Estimateur biaisé\n",
    "np.mean(result_biais['a_biais']) , np.mean(result_biais['b_biais'])"
   ]
  },
  {
   "cell_type": "code",
   "execution_count": 32,
   "id": "375de4be",
   "metadata": {},
   "outputs": [
    {
     "data": {
      "text/plain": [
       "<matplotlib.lines.Line2D at 0x1fb1dcf0310>"
      ]
     },
     "execution_count": 32,
     "metadata": {},
     "output_type": "execute_result"
    },
    {
     "data": {
      "image/png": "[encoded data removed]",
      "text/plain": [
       "<Figure size 640x480 with 1 Axes>"
      ]
     },
     "metadata": {},
     "output_type": "display_data"
    }
   ],
   "source": [
    "dens = sns.kdeplot(result_biais['a_biais'], color = \"limegreen\")\n",
    "dens.axvline(x = 2, color = \"red\")\n",
    "dens.axvline(x = np.mean(result_biais['a_biais']))\n"
   ]
  },
  {
   "cell_type": "code",
   "execution_count": 33,
   "id": "d6dea703",
   "metadata": {},
   "outputs": [],
   "source": [
    "# consistent\n",
    "a_cons=[]\n",
    "b_cons=[]\n",
    "Sim_cons=[]"
   ]
  },
  {
   "cell_type": "code",
   "execution_count": 34,
   "id": "feae5edc",
   "metadata": {},
   "outputs": [],
   "source": [
    "n = [(1+i)*25  for i in range(1000)]"
   ]
  },
  {
   "cell_type": "code",
   "execution_count": 35,
   "id": "3b2cced8",
   "metadata": {},
   "outputs": [],
   "source": [
    "for i in n:\n",
    "    inputs = data[data['t']<=i]\n",
    "    reg.fit(inputs['x'].values.reshape(-1,1),inputs['y'].values.reshape(-1,1))\n",
    "    a_cons.append(reg.coef_[0][0])\n",
    "    b_cons.append(reg.intercept_[0])\n",
    "    Sim_cons.append(i)"
   ]
  },
  {
   "cell_type": "code",
   "execution_count": 36,
   "id": "8dfe8733",
   "metadata": {},
   "outputs": [],
   "source": [
    "result_dict_cons = {'a_cons':a_cons,'b_cons':b_cons,'Sim_cons':Sim_cons}"
   ]
  },
  {
   "cell_type": "code",
   "execution_count": 37,
   "id": "d73e1fbc",
   "metadata": {},
   "outputs": [
    {
     "data": {
      "text/html": [
       "<div>\n",
       "<style scoped>\n",
       "    .dataframe tbody tr th:only-of-type {\n",
       "        vertical-align: middle;\n",
       "    }\n",
       "\n",
       "    .dataframe tbody tr th {\n",
       "        vertical-align: top;\n",
       "    }\n",
       "\n",
       "    .dataframe thead th {\n",
       "        text-align: right;\n",
       "    }\n",
       "</style>\n",
       "<table border=\"1\" class=\"dataframe\">\n",
       "  <thead>\n",
       "    <tr style=\"text-align: right;\">\n",
       "      <th></th>\n",
       "      <th>a_cons</th>\n",
       "      <th>b_cons</th>\n",
       "      <th>Sim_cons</th>\n",
       "    </tr>\n",
       "  </thead>\n",
       "  <tbody>\n",
       "    <tr>\n",
       "      <th>0</th>\n",
       "      <td>3.060746</td>\n",
       "      <td>1.384167</td>\n",
       "      <td>25</td>\n",
       "    </tr>\n",
       "    <tr>\n",
       "      <th>1</th>\n",
       "      <td>2.961987</td>\n",
       "      <td>1.169239</td>\n",
       "      <td>50</td>\n",
       "    </tr>\n",
       "    <tr>\n",
       "      <th>2</th>\n",
       "      <td>2.801642</td>\n",
       "      <td>1.128610</td>\n",
       "      <td>75</td>\n",
       "    </tr>\n",
       "    <tr>\n",
       "      <th>3</th>\n",
       "      <td>2.848062</td>\n",
       "      <td>1.182922</td>\n",
       "      <td>100</td>\n",
       "    </tr>\n",
       "    <tr>\n",
       "      <th>4</th>\n",
       "      <td>2.951928</td>\n",
       "      <td>1.141067</td>\n",
       "      <td>125</td>\n",
       "    </tr>\n",
       "    <tr>\n",
       "      <th>...</th>\n",
       "      <td>...</td>\n",
       "      <td>...</td>\n",
       "      <td>...</td>\n",
       "    </tr>\n",
       "    <tr>\n",
       "      <th>995</th>\n",
       "      <td>3.003327</td>\n",
       "      <td>1.003994</td>\n",
       "      <td>24900</td>\n",
       "    </tr>\n",
       "    <tr>\n",
       "      <th>996</th>\n",
       "      <td>3.002817</td>\n",
       "      <td>1.004062</td>\n",
       "      <td>24925</td>\n",
       "    </tr>\n",
       "    <tr>\n",
       "      <th>997</th>\n",
       "      <td>3.002517</td>\n",
       "      <td>1.004142</td>\n",
       "      <td>24950</td>\n",
       "    </tr>\n",
       "    <tr>\n",
       "      <th>998</th>\n",
       "      <td>3.002477</td>\n",
       "      <td>1.004193</td>\n",
       "      <td>24975</td>\n",
       "    </tr>\n",
       "    <tr>\n",
       "      <th>999</th>\n",
       "      <td>3.002527</td>\n",
       "      <td>1.004158</td>\n",
       "      <td>25000</td>\n",
       "    </tr>\n",
       "  </tbody>\n",
       "</table>\n",
       "<p>1000 rows × 3 columns</p>\n",
       "</div>"
      ],
      "text/plain": [
       "       a_cons    b_cons  Sim_cons\n",
       "0    3.060746  1.384167        25\n",
       "1    2.961987  1.169239        50\n",
       "2    2.801642  1.128610        75\n",
       "3    2.848062  1.182922       100\n",
       "4    2.951928  1.141067       125\n",
       "..        ...       ...       ...\n",
       "995  3.003327  1.003994     24900\n",
       "996  3.002817  1.004062     24925\n",
       "997  3.002517  1.004142     24950\n",
       "998  3.002477  1.004193     24975\n",
       "999  3.002527  1.004158     25000\n",
       "\n",
       "[1000 rows x 3 columns]"
      ]
     },
     "execution_count": 37,
     "metadata": {},
     "output_type": "execute_result"
    }
   ],
   "source": [
    "result_cons=pd.DataFrame(result_dict_cons)\n",
    "result_cons"
   ]
  },
  {
   "cell_type": "code",
   "execution_count": 38,
   "id": "50ebd9e9",
   "metadata": {},
   "outputs": [
    {
     "data": {
      "text/plain": [
       "<Axes: xlabel='Sim_cons', ylabel='a_cons'>"
      ]
     },
     "execution_count": 38,
     "metadata": {},
     "output_type": "execute_result"
    },
    {
     "data": {
      "image/png": "[encoded data removed]",
      "text/plain": [
       "<Figure size 640x480 with 1 Axes>"
      ]
     },
     "metadata": {},
     "output_type": "display_data"
    }
   ],
   "source": [
    "# Estimateur non consistant\n",
    "sns.lineplot(data=result_cons, x=\"Sim_cons\", y=\"a_cons\")\n",
    "sns.lineplot(data=result_cons, x=\"Sim_cons\", y=2, color = \"red\")\n",
    "sns.lineplot(data=result_cons, x=\"Sim_cons\", y=np.mean(a_biais))\n"
   ]
  }
 ],
 "metadata": {
  "kernelspec": {
   "display_name": "Python 3 (ipykernel)",
   "language": "python",
   "name": "python3"
  },
  "language_info": {
   "codemirror_mode": {
    "name": "ipython",
    "version": 3
   },
   "file_extension": ".py",
   "mimetype": "text/x-python",
   "name": "python",
   "nbconvert_exporter": "python",
   "pygments_lexer": "ipython3",
   "version": "3.11.5"
  }
 },
 "nbformat": 4,
 "nbformat_minor": 5
}
